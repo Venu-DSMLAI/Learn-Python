{
  "cells": [
    {
      "cell_type": "markdown",
      "metadata": {
        "id": "8amTzFbgQ9_t"
      },
      "source": [
        "# My 1st Program \"Hello World\""
      ]
    },
    {
      "cell_type": "code",
      "execution_count": null,
      "metadata": {
        "colab": {
          "base_uri": "https://localhost:8080/"
        },
        "id": "g-_52fB0Q6DL",
        "outputId": "1f4d0d38-8ce0-4e5c-9b40-faecc63dd5b7"
      },
      "outputs": [
        {
          "name": "stdout",
          "output_type": "stream",
          "text": [
            "Hello World\n"
          ]
        }
      ],
      "source": [
        "print (\"Hello World\")"
      ]
    },
    {
      "cell_type": "markdown",
      "metadata": {
        "id": "lEZVixPuQ9B1"
      },
      "source": [
        "# Variables\n"
      ]
    },
    {
      "cell_type": "markdown",
      "metadata": {
        "id": "-u39wbOgWcaP"
      },
      "source": [
        "x=10  \n",
        "x is variable name and 10 is the value which is assigned to the variable.  \n",
        "x is holding a value 10.   \n",
        "Variables are the placeholders to store the data.  \n",
        "\n",
        "Naming a Variable Rules in Python:  \n",
        "*   A variable names must start with a letter or the underscore character. (a-z, A-Z, _)\n",
        "*   A varaible name cannot start with a number (0-9)\n",
        "*   A variable name can contain Alpha-Numeric character and undescores (A-z, 0-9, _)\n",
        "*   Variable names are case-sensitive (age, Age and AGE are the 3 different variables.\n",
        "*   Inbuild keywords should not be used as identifiers."
      ]
    },
    {
      "cell_type": "code",
      "execution_count": null,
      "metadata": {
        "colab": {
          "base_uri": "https://localhost:8080/"
        },
        "id": "SKfvKerMURn4",
        "outputId": "b364bb0a-6d22-4ea6-8517-3d8c51533b25"
      },
      "outputs": [
        {
          "name": "stdout",
          "output_type": "stream",
          "text": [
            "\n",
            "Here is a list of the Python keywords.  Enter any keyword to get more help.\n",
            "\n",
            "False               class               from                or\n",
            "None                continue            global              pass\n",
            "True                def                 if                  raise\n",
            "and                 del                 import              return\n",
            "as                  elif                in                  try\n",
            "assert              else                is                  while\n",
            "async               except              lambda              with\n",
            "await               finally             nonlocal            yield\n",
            "break               for                 not                 \n",
            "\n"
          ]
        }
      ],
      "source": [
        "help(\"keywords\")"
      ]
    },
    {
      "cell_type": "markdown",
      "metadata": {
        "id": "kir-QsRrUjRS"
      },
      "source": [
        "**Boolean:**\tTrue, False  \n",
        "**Logical Operators:**\tand, or, not  \n",
        "**Comparison Operators:**\tis, in    \n",
        "**Null:**\tNone  \n",
        "**Control Flow:**\tif, elif, else, for, while, break, continue, pass  \n",
        "**Exception Handling:**\ttry, except, finally, raise, assert  \n",
        "**Function:**\tdef, return, lambda, yield  \n",
        "**Class/Object (OOPS):**\tclass  \n",
        "**Import:**\timport, from, as  \n",
        "**Variable:**\tglobal, nonlocal  \n",
        "**Async Programming:**\tasync, await  \n",
        "**Miscellaneous:**\tdel, with  "
      ]
    },
    {
      "cell_type": "code",
      "execution_count": null,
      "metadata": {
        "colab": {
          "base_uri": "https://localhost:8080/"
        },
        "id": "Xdcb55G5SaJZ",
        "outputId": "92ee308f-4fcf-4ca6-a191-a3554fdcaa01"
      },
      "outputs": [
        {
          "name": "stdout",
          "output_type": "stream",
          "text": [
            "5\n"
          ]
        }
      ],
      "source": [
        "a=5\n",
        "print (a)"
      ]
    },
    {
      "cell_type": "code",
      "execution_count": null,
      "metadata": {
        "colab": {
          "base_uri": "https://localhost:8080/"
        },
        "id": "-zi0tqbpTi5C",
        "outputId": "ebfbcf2f-6f53-4b1d-a4ec-dbf05c3cf5de"
      },
      "outputs": [
        {
          "name": "stdout",
          "output_type": "stream",
          "text": [
            "20\n"
          ]
        }
      ],
      "source": [
        "venu_10=20\n",
        "print(venu_10)"
      ]
    },
    {
      "cell_type": "markdown",
      "metadata": {
        "id": "gFPer47FT-pl"
      },
      "source": [
        "# Memory Allocation\n"
      ]
    },
    {
      "cell_type": "markdown",
      "metadata": {
        "id": "AbzWpZiwXGI2"
      },
      "source": [
        "There are two parks of Memory\n",
        "1. Stack\n",
        "2. Heap\n",
        "\n",
        "x=5  \n",
        "y=6\n",
        "\n",
        "variables names (x and y) are stored in stack memory  \n",
        "random memory (heap memory) which is having a value.   \n",
        "\n",
        "relation ship which binds with a value is known as reference (unique id).\n",
        "\n",
        "the Stack and Heap memory strored in the Memory Block."
      ]
    },
    {
      "cell_type": "markdown",
      "metadata": {
        "id": "0IJz7iBvYBTs"
      },
      "source": []
    },
    {
      "cell_type": "markdown",
      "metadata": {
        "id": "JkK0rxDtYGPm"
      },
      "source": [
        "ID Function  \n",
        "address of the value of the variable."
      ]
    },
    {
      "cell_type": "code",
      "execution_count": null,
      "metadata": {
        "colab": {
          "base_uri": "https://localhost:8080/"
        },
        "id": "6c-pWtbDYZP_",
        "outputId": "e725381a-aa55-4a9b-f709-9dd27a1783fc"
      },
      "outputs": [
        {
          "name": "stdout",
          "output_type": "stream",
          "text": [
            "10757864\n"
          ]
        }
      ],
      "source": [
        "x=5\n",
        "print (id(x))"
      ]
    },
    {
      "cell_type": "code",
      "execution_count": null,
      "metadata": {
        "colab": {
          "base_uri": "https://localhost:8080/"
        },
        "id": "82bk__kRYf1w",
        "outputId": "0289a7d1-6330-4f1f-80c1-c026ecae642f"
      },
      "outputs": [
        {
          "name": "stdout",
          "output_type": "stream",
          "text": [
            "20\n",
            "10758344\n"
          ]
        }
      ],
      "source": [
        "x=20\n",
        "print (x)\n",
        "print(id(x))"
      ]
    },
    {
      "cell_type": "code",
      "execution_count": null,
      "metadata": {
        "colab": {
          "base_uri": "https://localhost:8080/"
        },
        "id": "1dJLr6YrYpXg",
        "outputId": "36c708ea-3c68-4cb9-9e13-4b9a0b735036"
      },
      "outputs": [
        {
          "name": "stdout",
          "output_type": "stream",
          "text": [
            "venu\n",
            "138582353733424\n"
          ]
        }
      ],
      "source": [
        "name =\"venu\"\n",
        "print (name)\n",
        "print (id(name))"
      ]
    },
    {
      "cell_type": "markdown",
      "metadata": {
        "id": "HMAJVQT5ZAmL"
      },
      "source": [
        "# Comments"
      ]
    },
    {
      "cell_type": "code",
      "execution_count": null,
      "metadata": {
        "colab": {
          "base_uri": "https://localhost:8080/"
        },
        "id": "leF1co0ZZRQl",
        "outputId": "8b0ef724-7d72-499d-8718-44d6fabaf7f4"
      },
      "outputs": [
        {
          "name": "stdout",
          "output_type": "stream",
          "text": [
            "5 23 45 32\n"
          ]
        }
      ],
      "source": [
        "#this is a variable\n",
        "a=5\n",
        "x=23\n",
        "y=45\n",
        "z=32\n",
        "print (a, x, y, z)"
      ]
    },
    {
      "cell_type": "markdown",
      "metadata": {
        "id": "4AWpei3VZkLq"
      },
      "source": [
        "# Data Types"
      ]
    },
    {
      "cell_type": "markdown",
      "metadata": {
        "id": "Iu7zM1ffZnif"
      },
      "source": [
        "Integers - Whole numbers - (-Infinty to Infinity, inbetween zero)  \n",
        "Float - decimal value  \n",
        "Boolean - true and false  \n",
        "Strings - Alpha Numeric Charaters  \n",
        "None - no value, if you dont want to give any value - its a void"
      ]
    },
    {
      "cell_type": "code",
      "execution_count": null,
      "metadata": {
        "colab": {
          "base_uri": "https://localhost:8080/"
        },
        "id": "glc8Rfu3aSTu",
        "outputId": "20592e61-8921-4599-d094-d5fcec932ca4"
      },
      "outputs": [
        {
          "name": "stdout",
          "output_type": "stream",
          "text": [
            "24\n",
            "<class 'int'>\n",
            "20.5\n",
            "<class 'float'>\n",
            "a\n",
            "True\n",
            "<class 'bool'>\n",
            "venu\n",
            "<class 'str'>\n"
          ]
        },
        {
          "data": {
            "text/plain": [
              "str"
            ]
          },
          "execution_count": 22,
          "metadata": {},
          "output_type": "execute_result"
        }
      ],
      "source": [
        "#Integers\n",
        "number =24\n",
        "print (number)\n",
        "print(type(number))\n",
        "\n",
        "a=20.5\n",
        "print(a)\n",
        "print(type(a))\n",
        "\n",
        "print(\"a\")\n",
        "\n",
        "b=True\n",
        "print (b)\n",
        "print(type(b))\n",
        "type(b)\n",
        "\n",
        "string =\"venu\"\n",
        "print(string)\n",
        "print (type(string))\n",
        "type(string)"
      ]
    },
    {
      "cell_type": "code",
      "execution_count": null,
      "metadata": {
        "colab": {
          "base_uri": "https://localhost:8080/"
        },
        "id": "4zNgU0N2cCVR",
        "outputId": "cbbb98d2-2eb4-4b56-81bd-1801d2b3f0bf"
      },
      "outputs": [
        {
          "name": "stdout",
          "output_type": "stream",
          "text": [
            "\n",
            "I am venu\n",
            "having 11 years of experience\n",
            "\n",
            "<class 'str'>\n"
          ]
        },
        {
          "data": {
            "text/plain": [
              "str"
            ]
          },
          "execution_count": 26,
          "metadata": {},
          "output_type": "execute_result"
        }
      ],
      "source": [
        "#multi line string\n",
        "a=\"\"\"\n",
        "I am venu\n",
        "having 11 years of experience\n",
        "\"\"\"\n",
        "print(a)\n",
        "print(type(a))\n",
        "type(a)\n",
        "\n"
      ]
    },
    {
      "cell_type": "code",
      "execution_count": null,
      "metadata": {
        "colab": {
          "base_uri": "https://localhost:8080/"
        },
        "id": "ZVltEc_YcE1N",
        "outputId": "64cb3bb7-f271-4ec0-b761-0649a7ceec48"
      },
      "outputs": [
        {
          "name": "stdout",
          "output_type": "stream",
          "text": [
            "\n",
            "I am venu\n",
            "having 11 years of experience\n",
            "<class 'str'>\n"
          ]
        },
        {
          "data": {
            "text/plain": [
              "str"
            ]
          },
          "execution_count": 28,
          "metadata": {},
          "output_type": "execute_result"
        }
      ],
      "source": [
        "#multi line string\n",
        "a='''\n",
        "I am venu\n",
        "having 11 years of experience'''\n",
        "print(a)\n",
        "print(type(a))\n",
        "type(a)"
      ]
    },
    {
      "cell_type": "code",
      "execution_count": null,
      "metadata": {
        "colab": {
          "base_uri": "https://localhost:8080/",
          "height": 106
        },
        "id": "JOsA0ftFcjA2",
        "outputId": "2e4ba375-ba19-4719-d07c-1ad6f7a2b0e2"
      },
      "outputs": [
        {
          "ename": "SyntaxError",
          "evalue": "unterminated string literal (detected at line 2) (ipython-input-30-1513015599.py, line 2)",
          "output_type": "error",
          "traceback": [
            "\u001b[0;36m  File \u001b[0;32m\"/tmp/ipython-input-30-1513015599.py\"\u001b[0;36m, line \u001b[0;32m2\u001b[0m\n\u001b[0;31m    a=\"\u001b[0m\n\u001b[0m      ^\u001b[0m\n\u001b[0;31mSyntaxError\u001b[0m\u001b[0;31m:\u001b[0m unterminated string literal (detected at line 2)\n"
          ]
        }
      ],
      "source": [
        "#multi line string with invalid usage ' '/ \" \" /\n",
        "# always use \"\"\"/ '''  for multiline string.\n",
        "a=\"\n",
        "I am venu\n",
        "having 11 years of experience\"\n",
        "print(a)\n",
        "print(type(a))\n",
        "type(a)"
      ]
    },
    {
      "cell_type": "markdown",
      "metadata": {
        "id": "NCisEfQjc-BX"
      },
      "source": [
        "# Input Function"
      ]
    },
    {
      "cell_type": "code",
      "execution_count": null,
      "metadata": {
        "colab": {
          "base_uri": "https://localhost:8080/"
        },
        "id": "WK7FWjSldXQv",
        "outputId": "6d2475b5-286b-410b-8c32-b816513a9fcf"
      },
      "outputs": [
        {
          "name": "stdout",
          "output_type": "stream",
          "text": [
            "Venu\n",
            "Venu\n",
            "<class 'str'>\n"
          ]
        }
      ],
      "source": [
        "name=input()\n",
        "print(name)\n",
        "print(type(name))"
      ]
    },
    {
      "cell_type": "code",
      "execution_count": null,
      "metadata": {
        "colab": {
          "base_uri": "https://localhost:8080/"
        },
        "id": "paZ4E6Vll2MP",
        "outputId": "56e19817-d20a-4b70-a1fa-485b3f246ca0"
      },
      "outputs": [
        {
          "name": "stdout",
          "output_type": "stream",
          "text": [
            "5\n",
            "5\n",
            "<class 'str'>\n"
          ]
        }
      ],
      "source": [
        "# number as input =  by default in python it will take as a string. example:\n",
        "x=input()\n",
        "print(x)\n",
        "print(type(x))"
      ]
    },
    {
      "cell_type": "code",
      "execution_count": null,
      "metadata": {
        "colab": {
          "base_uri": "https://localhost:8080/",
          "height": 35
        },
        "id": "1xbu7AljmNyK",
        "outputId": "72788f71-b98c-469a-b4b9-bed5bfab5bb9"
      },
      "outputs": [
        {
          "data": {
            "application/vnd.google.colaboratory.intrinsic+json": {
              "type": "string"
            },
            "text/plain": [
              "'5'"
            ]
          },
          "execution_count": 34,
          "metadata": {},
          "output_type": "execute_result"
        }
      ],
      "source": [
        "#type conversion\n",
        "x"
      ]
    },
    {
      "cell_type": "code",
      "execution_count": null,
      "metadata": {
        "colab": {
          "base_uri": "https://localhost:8080/"
        },
        "id": "dwhCMy1fmUSe",
        "outputId": "33303ec9-917c-4086-cd52-e07f8909d35c"
      },
      "outputs": [
        {
          "name": "stdout",
          "output_type": "stream",
          "text": [
            "2.5\n",
            "<class 'float'>\n"
          ]
        }
      ],
      "source": [
        "x=2.5\n",
        "y=float(x)\n",
        "print(y)\n",
        "print(type(y))"
      ]
    },
    {
      "cell_type": "code",
      "execution_count": null,
      "metadata": {
        "colab": {
          "base_uri": "https://localhost:8080/"
        },
        "id": "C7GmBfMVmia7",
        "outputId": "0b1e4b4c-ceef-4379-bdd0-ab253c43ac11"
      },
      "outputs": [
        {
          "name": "stdout",
          "output_type": "stream",
          "text": [
            "2.5\n",
            "2\n",
            "<class 'int'>\n"
          ]
        }
      ],
      "source": [
        "print(x)\n",
        "b=int(x)\n",
        "print(b)\n",
        "print(type(b))"
      ]
    },
    {
      "cell_type": "code",
      "execution_count": null,
      "metadata": {
        "colab": {
          "base_uri": "https://localhost:8080/",
          "height": 211
        },
        "id": "zeYSdK0gmxim",
        "outputId": "9f0cbf5f-b1df-4f34-9395-fb6218938b3a"
      },
      "outputs": [
        {
          "ename": "ValueError",
          "evalue": "invalid literal for int() with base 10: 'venu'",
          "output_type": "error",
          "traceback": [
            "\u001b[0;31m---------------------------------------------------------------------------\u001b[0m",
            "\u001b[0;31mValueError\u001b[0m                                Traceback (most recent call last)",
            "\u001b[0;32m/tmp/ipython-input-39-3601972727.py\u001b[0m in \u001b[0;36m<cell line: 0>\u001b[0;34m()\u001b[0m\n\u001b[1;32m      1\u001b[0m \u001b[0;31m#you cant convert string as an integer\u001b[0m\u001b[0;34m\u001b[0m\u001b[0;34m\u001b[0m\u001b[0m\n\u001b[1;32m      2\u001b[0m \u001b[0mname\u001b[0m\u001b[0;34m=\u001b[0m\u001b[0;34m\"venu\"\u001b[0m\u001b[0;34m\u001b[0m\u001b[0;34m\u001b[0m\u001b[0m\n\u001b[0;32m----> 3\u001b[0;31m \u001b[0mnam\u001b[0m\u001b[0;34m=\u001b[0m\u001b[0mint\u001b[0m\u001b[0;34m(\u001b[0m\u001b[0mname\u001b[0m\u001b[0;34m)\u001b[0m\u001b[0;34m\u001b[0m\u001b[0;34m\u001b[0m\u001b[0m\n\u001b[0m\u001b[1;32m      4\u001b[0m \u001b[0mprint\u001b[0m\u001b[0;34m(\u001b[0m\u001b[0mnam\u001b[0m\u001b[0;34m)\u001b[0m\u001b[0;34m\u001b[0m\u001b[0;34m\u001b[0m\u001b[0m\n\u001b[1;32m      5\u001b[0m \u001b[0mprint\u001b[0m\u001b[0;34m(\u001b[0m\u001b[0mtype\u001b[0m\u001b[0;34m(\u001b[0m\u001b[0mnam\u001b[0m\u001b[0;34m)\u001b[0m\u001b[0;34m)\u001b[0m\u001b[0;34m\u001b[0m\u001b[0;34m\u001b[0m\u001b[0m\n",
            "\u001b[0;31mValueError\u001b[0m: invalid literal for int() with base 10: 'venu'"
          ]
        }
      ],
      "source": [
        "#you cant convert string as an integer\n",
        "name=\"venu\"\n",
        "nam=int(name)\n",
        "print(nam)\n",
        "print(type(nam))"
      ]
    },
    {
      "cell_type": "code",
      "execution_count": null,
      "metadata": {
        "colab": {
          "base_uri": "https://localhost:8080/"
        },
        "id": "haL_IbCYnLWJ",
        "outputId": "6f99fea0-b686-40e4-9f7d-a0fe9bb674c6"
      },
      "outputs": [
        {
          "data": {
            "text/plain": [
              "str"
            ]
          },
          "execution_count": 40,
          "metadata": {},
          "output_type": "execute_result"
        }
      ],
      "source": [
        "type(\"1.5\")"
      ]
    },
    {
      "cell_type": "code",
      "execution_count": null,
      "metadata": {
        "colab": {
          "base_uri": "https://localhost:8080/"
        },
        "id": "fZlI_TmwnQml",
        "outputId": "2a366817-a0ee-48bf-b161-a12f4238da47"
      },
      "outputs": [
        {
          "data": {
            "text/plain": [
              "1"
            ]
          },
          "execution_count": 49,
          "metadata": {},
          "output_type": "execute_result"
        }
      ],
      "source": [
        "#string directly you cant convert into integer, if its a float. So in this case you must convert 1st string to float, then convert float into integer; here is an example:\n",
        "\n",
        "c=float(\"1.5\")\n",
        "type (c)\n",
        "int(c)"
      ]
    },
    {
      "cell_type": "markdown",
      "metadata": {
        "id": "Xa1qzvfmoeTq"
      },
      "source": [
        "# Print Functions"
      ]
    },
    {
      "cell_type": "code",
      "execution_count": null,
      "metadata": {
        "colab": {
          "base_uri": "https://localhost:8080/"
        },
        "id": "K8UkBVfBohSt",
        "outputId": "9446ab0d-a149-48f6-b5b9-9c2671033f0a"
      },
      "outputs": [
        {
          "name": "stdout",
          "output_type": "stream",
          "text": [
            "venu\n",
            "\n",
            "venu rahul 10 25 venu.venneti@gmail.com rahul123@gmail.com 68.2 72.5\n",
            "\n",
            "venu rahul 10 25 venu.venneti@gmail.com rahul123@gmail.com 68.2 72.5\n",
            "\n",
            "venu,rahul,10,25,venu.venneti@gmail.com,rahul123@gmail.com,68.2,72.5\n",
            "\n",
            "venu;rahul;10;25;venu.venneti@gmail.com;rahul123@gmail.com;68.2;72.5\n",
            "\n",
            "venu-rahul-10-25-venu.venneti@gmail.com-rahul123@gmail.com-68.2-72.5\n",
            "\n",
            "venu\n",
            "rahul\n",
            "10\n",
            "25\n",
            "venu.venneti@gmail.com\n",
            "rahul123@gmail.com\n",
            "68.2\n",
            "72.5\n",
            "\n",
            "venu 10 venu123@gmail.com 68.2 \n",
            "rahul 25 rahul123@gmail.com 72.5\n",
            "\n",
            "venu 25 rahul 24\n",
            "\n",
            "venu\n",
            "25->rahul 26\n"
          ]
        }
      ],
      "source": [
        "#print single value using print function\n",
        "print (\"venu\")\n",
        "print() #for empty value in the o/p\n",
        "\n",
        "#print multiple values using print function\n",
        "print(\"venu\", \"rahul\", 10, 25, \"venu.venneti@gmail.com\", \"rahul123@gmail.com\", 68.2, 72.5)\n",
        "print() #for empty value in the o/p\n",
        "\n",
        "#remove the spaces and check how the values will be printed?\n",
        "print(\"venu\",\"rahul\",10,25,\"venu.venneti@gmail.com\",\"rahul123@gmail.com\",68.2,72.5)\n",
        "print() #for empty value in the o/p\n",
        "#every value printed with a space, by default print function will have a seperator space.\n",
        "\n",
        "#need to mention a special character after each value?\n",
        "print(\"venu\",\"rahul\",10,25,\"venu.venneti@gmail.com\",\"rahul123@gmail.com\",68.2,72.5, sep=\",\")\n",
        "print() #for empty value in the o/p\n",
        "print(\"venu\",\"rahul\",10,25,\"venu.venneti@gmail.com\",\"rahul123@gmail.com\",68.2,72.5, sep=\";\")\n",
        "print() #for empty value in the o/p\n",
        "print(\"venu\",\"rahul\",10,25,\"venu.venneti@gmail.com\",\"rahul123@gmail.com\",68.2,72.5, sep=\"-\")\n",
        "print() #for empty value in the o/p\n",
        "print(\"venu\",\"rahul\",10,25,\"venu.venneti@gmail.com\",\"rahul123@gmail.com\",68.2,72.5, sep=\"\\n\")\n",
        "print() #for empty value in the o/p\n",
        "\n",
        "#using \\n end function with same print function.\n",
        "print(\"venu\", 10, \"venu123@gmail.com\", 68.2, \"\\nrahul\", 25, \"rahul123@gmail.com\", 72.5)\n",
        "print() #for empty value in the o/p\n",
        "\n",
        "#by using end function to make it in the same line of output\n",
        "print(\"venu\", 25, end=\" \")\n",
        "print(\"rahul\", 24)\n",
        "print() #for empty value in the o/p\n",
        "\n",
        "#to break the value of the 1st print fucntion, and execute the further value in the 2nd line. by Using end operator.\n",
        "print(\"venu\", 25, sep=\"\\n\", end=\"->\")\n",
        "print(\"rahul\", 26)"
      ]
    },
    {
      "cell_type": "code",
      "execution_count": null,
      "metadata": {
        "id": "NWGCC4zKr1vs"
      },
      "outputs": [],
      "source": []
    },
    {
      "cell_type": "markdown",
      "metadata": {
        "id": "MUyg_7IQvBHp"
      },
      "source": [
        "# Operators"
      ]
    },
    {
      "cell_type": "markdown",
      "metadata": {
        "id": "XIMAKmUavElO"
      },
      "source": [
        "Expression = Operators + Operands  \n",
        "X + Y   \n",
        "X and Y are the Operands and + is known as Operators.\n",
        "An operator in a programming language is a symbol that to perform specific Mathematical, relational or logical operation and produce the final result.  \n",
        "**Arthematic Operations**  \n",
        "Addition, Subtraction, Division, Multiplication, Mod(%), Floor Division (//), To the Power (**)  \n",
        "**Comparision Operators** - always compares the two values, always it will give either the true or false.  \n",
        "==, !=, <, >, <=, >=  \n",
        "**Assignment Operators**  \n",
        "=, -=, +=, /=, *=, %=, //=\n",
        "**Logical Operators**  \n",
        "AND, OR, NOT -- this gives the boolean values (either true/false) gives as a o/p.  \n",
        "**Special Operator**  \n",
        "in operator (Membership Operator)  \n",
        "is operator\n"
      ]
    },
    {
      "cell_type": "code",
      "execution_count": null,
      "metadata": {
        "colab": {
          "base_uri": "https://localhost:8080/"
        },
        "id": "zDs1GQ5SYYdT",
        "outputId": "a1c9ebb3-722e-451f-9d80-983bcb6a43e9"
      },
      "outputs": [
        {
          "data": {
            "text/plain": [
              "8"
            ]
          },
          "execution_count": 5,
          "metadata": {},
          "output_type": "execute_result"
        }
      ],
      "source": [
        "a=5\n",
        "b=3\n",
        "a+b"
      ]
    },
    {
      "cell_type": "code",
      "execution_count": null,
      "metadata": {
        "colab": {
          "base_uri": "https://localhost:8080/"
        },
        "id": "W_vMDiRWYoI1",
        "outputId": "9b3daf8c-842a-44b5-8b26-7f1239051037"
      },
      "outputs": [
        {
          "data": {
            "text/plain": [
              "2"
            ]
          },
          "execution_count": 6,
          "metadata": {},
          "output_type": "execute_result"
        }
      ],
      "source": [
        "a-b"
      ]
    },
    {
      "cell_type": "code",
      "execution_count": null,
      "metadata": {
        "colab": {
          "base_uri": "https://localhost:8080/"
        },
        "id": "PpYT4MvXYsqv",
        "outputId": "6d8e3f51-c0af-4c42-a660-2842a6112051"
      },
      "outputs": [
        {
          "data": {
            "text/plain": [
              "1.6666666666666667"
            ]
          },
          "execution_count": 7,
          "metadata": {},
          "output_type": "execute_result"
        }
      ],
      "source": [
        "a/b"
      ]
    },
    {
      "cell_type": "code",
      "execution_count": null,
      "metadata": {
        "colab": {
          "base_uri": "https://localhost:8080/"
        },
        "id": "fSg_r3TyYuHF",
        "outputId": "7b0b9b8c-22ac-4329-e5f4-4f1f387b9ff5"
      },
      "outputs": [
        {
          "data": {
            "text/plain": [
              "1.0"
            ]
          },
          "execution_count": 9,
          "metadata": {},
          "output_type": "execute_result"
        }
      ],
      "source": [
        "#division operator will always give the float value\n",
        "5/5"
      ]
    },
    {
      "cell_type": "code",
      "execution_count": null,
      "metadata": {
        "colab": {
          "base_uri": "https://localhost:8080/"
        },
        "id": "kRCCJogUY8CN",
        "outputId": "674b752e-6273-4b81-99e2-1f7ac5f7a9af"
      },
      "outputs": [
        {
          "data": {
            "text/plain": [
              "15"
            ]
          },
          "execution_count": 10,
          "metadata": {},
          "output_type": "execute_result"
        }
      ],
      "source": [
        "a*b"
      ]
    },
    {
      "cell_type": "code",
      "execution_count": null,
      "metadata": {
        "colab": {
          "base_uri": "https://localhost:8080/"
        },
        "id": "slpJIPJAZBf_",
        "outputId": "6be8f801-ff56-47a3-c785-fc4f52006e10"
      },
      "outputs": [
        {
          "name": "stdout",
          "output_type": "stream",
          "text": [
            "8\n",
            "2\n",
            "15\n",
            "1.6666666666666667\n"
          ]
        }
      ],
      "source": [
        "print(a+b)\n",
        "print(a-b)\n",
        "print(a*b)\n",
        "print(a/b)"
      ]
    },
    {
      "cell_type": "code",
      "execution_count": null,
      "metadata": {
        "colab": {
          "base_uri": "https://localhost:8080/",
          "height": 70
        },
        "id": "CSvpPDu9ZKOm",
        "outputId": "712efe4d-748b-40c8-da25-73dddea6c517"
      },
      "outputs": [
        {
          "name": "stdout",
          "output_type": "stream",
          "text": [
            "venuGopal\n",
            "11\n"
          ]
        },
        {
          "data": {
            "application/vnd.google.colaboratory.intrinsic+json": {
              "type": "string"
            },
            "text/plain": [
              "'venuvenuvenu'"
            ]
          },
          "execution_count": 14,
          "metadata": {},
          "output_type": "execute_result"
        }
      ],
      "source": [
        "# will see the string addition\n",
        "First = \"venu\"\n",
        "Last = \"Gopal\"\n",
        "print(First+Last)\n",
        "#this is known as String Concatenation.\n",
        "\n",
        "print(\"1\"+\"1\") # this works again sring concatenation.\n",
        "#you cant subtract and Multiply the string with a string, you can only add a string with a string.\n",
        "\n",
        "First*3"
      ]
    },
    {
      "cell_type": "code",
      "execution_count": null,
      "metadata": {
        "colab": {
          "base_uri": "https://localhost:8080/"
        },
        "id": "zMgZkn3waAxe",
        "outputId": "017237ed-0e40-49ff-9354-cd92ab264ac0"
      },
      "outputs": [
        {
          "name": "stdout",
          "output_type": "stream",
          "text": [
            "5 3\n",
            "2\n",
            "0\n",
            "1\n",
            "\n",
            "\n",
            "1\n",
            "-2\n",
            "\n",
            "\n",
            "5 3\n",
            "125\n",
            "9\n"
          ]
        }
      ],
      "source": [
        "print(a,b)\n",
        "\n",
        "# Modules operator always gives remainder always\n",
        "print(a%b)\n",
        "\n",
        "x=10\n",
        "y=10\n",
        "print(x%y)\n",
        "print(x%b)\n",
        "print()\n",
        "print()\n",
        "\n",
        "# Floor Division Operator, the result is floored to the nearest smaller integer (which always in the left side of the nearest integer value)\n",
        "print(a//b)\n",
        "print(-3//2)\n",
        "print()\n",
        "print()\n",
        "\n",
        "# to the power operator accepts two values base and power\n",
        "print(a,b)\n",
        "print(a**b) #5*5*5=125\n",
        "print(3**2) #3*3=9"
      ]
    },
    {
      "cell_type": "code",
      "execution_count": null,
      "metadata": {
        "colab": {
          "base_uri": "https://localhost:8080/"
        },
        "id": "dd8RMkaRdPqX",
        "outputId": "b8e35b81-b90f-4848-c283-a690524c33b3"
      },
      "outputs": [
        {
          "name": "stdout",
          "output_type": "stream",
          "text": [
            "5 3\n",
            "False\n",
            "True\n",
            "False\n",
            "True\n",
            "False\n",
            "True\n",
            "\n",
            "\n",
            "True\n",
            "False\n",
            "False\n",
            "True\n",
            "True\n",
            "False\n"
          ]
        }
      ],
      "source": [
        "# Comparision Operators\n",
        "print(a,b)\n",
        "print(a==b)\n",
        "print(a!=b)\n",
        "print(a<b)\n",
        "print(a>b)\n",
        "print(a<=b)\n",
        "print(a>=b)\n",
        "print()\n",
        "print()\n",
        "print(6>=3)\n",
        "print(6<=3)\n",
        "print(6==3)\n",
        "print(6!=3)\n",
        "print(6>3)\n",
        "print(6<3)"
      ]
    },
    {
      "cell_type": "code",
      "execution_count": null,
      "metadata": {
        "colab": {
          "base_uri": "https://localhost:8080/"
        },
        "id": "YzHg3YuHeab7",
        "outputId": "fe93d6cd-28cc-4fb6-8ea4-2e26ec568aa3"
      },
      "outputs": [
        {
          "name": "stdout",
          "output_type": "stream",
          "text": [
            "8\n",
            "\n",
            "\n"
          ]
        }
      ],
      "source": [
        "#Assignement Operators\n",
        "a=5\n",
        "a=a+3\n",
        "print(a)\n",
        "print()\n",
        "print()"
      ]
    },
    {
      "cell_type": "code",
      "execution_count": null,
      "metadata": {
        "colab": {
          "base_uri": "https://localhost:8080/"
        },
        "id": "y9K9vtj1fAkq",
        "outputId": "d62589bd-f16d-471c-e1e4-fdbd43d21753"
      },
      "outputs": [
        {
          "name": "stdout",
          "output_type": "stream",
          "text": [
            "3.0\n",
            "0.0\n",
            "0.0\n",
            "0.0\n",
            "0.0\n",
            "0.0\n"
          ]
        }
      ],
      "source": [
        "#a=a+3 is same as a+=3\n",
        "a+=3\n",
        "print(a)\n",
        "\n",
        "#a=a-3 is same as a-=3\n",
        "a-=3\n",
        "print(a)\n",
        "\n",
        "#a=a/3 is same as a/=3\n",
        "a/=3\n",
        "print(a)\n",
        "\n",
        "#a=a*3 is same as a*=3\n",
        "a*=3\n",
        "print(a)\n",
        "\n",
        "#a=a%3 is same as a%=3\n",
        "a%=3\n",
        "print(a)\n",
        "\n",
        "#a=a//3 is same as a//=3\n",
        "a//=3\n",
        "print(a)"
      ]
    },
    {
      "cell_type": "code",
      "execution_count": null,
      "metadata": {
        "colab": {
          "base_uri": "https://localhost:8080/"
        },
        "id": "KWr7soWJgTQN",
        "outputId": "7a84a38a-9e7e-43e7-9247-7acc52019aac"
      },
      "outputs": [
        {
          "name": "stdout",
          "output_type": "stream",
          "text": [
            "True\n",
            "False\n",
            "False\n",
            "False\n",
            "\n",
            "\n",
            "True\n",
            "True\n",
            "True\n",
            "False\n",
            "\n",
            "\n",
            "True\n",
            "False\n",
            "\n",
            "False\n",
            "True\n"
          ]
        }
      ],
      "source": [
        "#Logical Operator\n",
        "#AND\n",
        "print(3>2 and 4>3)\n",
        "print(2>3 and 3>2)\n",
        "print(3>2 and 2>3)\n",
        "print (2>3 and 3>4)\n",
        "print()\n",
        "print()\n",
        "\n",
        "print(3>2 or 4>3)\n",
        "print(2>3 or 3>2)\n",
        "print(3>2 or 2>3)\n",
        "print (2>3 or 3>4)\n",
        "print()\n",
        "print()\n",
        "\n",
        "print(3>2)\n",
        "print(2>3)\n",
        "print()\n",
        "\n",
        "print(not 3>2)\n",
        "print(not 2>3)"
      ]
    },
    {
      "cell_type": "code",
      "execution_count": null,
      "metadata": {
        "colab": {
          "base_uri": "https://localhost:8080/"
        },
        "id": "5B6Tht0SgzbY",
        "outputId": "0d4312ed-f797-4681-c556-0d29d0799069"
      },
      "outputs": [
        {
          "name": "stdout",
          "output_type": "stream",
          "text": [
            "True\n",
            "False\n",
            "True\n",
            "False\n",
            "\n",
            "\n",
            "10757864 10758024\n",
            "\n",
            "\n",
            "10757864 10757864\n",
            "True\n",
            "False\n",
            "True\n"
          ]
        }
      ],
      "source": [
        "#Special Operators\n",
        "#in operator tells you if an object is part of other object or not.\n",
        "name=\"venu gopal\"\n",
        "print(\"v\" in name)\n",
        "print(\"x\" in name)\n",
        "print(\"venu\" in name)\n",
        "print(\"venneti\" in name)\n",
        "print()\n",
        "print()\n",
        "\n",
        "\n",
        "\n",
        "# is operator tells you if both the objects are at same memory location or not?\n",
        "a=5\n",
        "b=10\n",
        "print(id(a), id(b))\n",
        "print()\n",
        "print()\n",
        "\n",
        "x=5\n",
        "y=5\n",
        "print(id(x), id(y))\n",
        "\n",
        "print(x is y)\n",
        "print(a is b)\n",
        "print(a is x)"
      ]
    },
    {
      "cell_type": "markdown",
      "metadata": {
        "id": "ornAzmVzjwjq"
      },
      "source": [
        "# Control Flow  \n",
        "Control Flow Statements  \n",
        "if, else, elif"
      ]
    },
    {
      "cell_type": "code",
      "execution_count": null,
      "metadata": {
        "colab": {
          "base_uri": "https://localhost:8080/"
        },
        "id": "ir3ID6drklb_",
        "outputId": "f73adddc-ce66-45c5-ab6a-b35a81c69e8e"
      },
      "outputs": [
        {
          "name": "stdout",
          "output_type": "stream",
          "text": [
            "19\n",
            "Congratulation! You are eligible to drive the car\n",
            "Drive Safely\n"
          ]
        }
      ],
      "source": [
        "#if your age is above 18, you can drive the car; if your age is below 18, then you are not eligible.\n",
        "age=int(input())\n",
        "#now use if else\n",
        "if age>18:\n",
        "  print(\"Congratulation! You are eligible to drive the car\")\n",
        "  print(\"Drive Safely\")\n",
        "else:\n",
        "  print(\"Sorry! You are not eligible\")"
      ]
    },
    {
      "cell_type": "code",
      "execution_count": null,
      "metadata": {
        "colab": {
          "base_uri": "https://localhost:8080/"
        },
        "id": "fTspm_sEmygi",
        "outputId": "4d98b9eb-a279-4d1b-cb04-64600a8eda37"
      },
      "outputs": [
        {
          "name": "stdout",
          "output_type": "stream",
          "text": [
            "66\n",
            "Take Care! As per the government rule, you are not eligible\n"
          ]
        }
      ],
      "source": [
        "# Nested if else:\n",
        "#if your age is above 18, you can drive the car; if your age is below 18, then you are not eligible.\n",
        "\n",
        "age=int(input())\n",
        "if age>18:\n",
        "\n",
        "#one more condition, you are not eligible above 65 years.\n",
        "  if age>65:\n",
        "    print(\"Take Care! As per the government rule, you are not eligible\")\n",
        "  else:\n",
        "      print(\"Congratulation! You are eligible to drive the car\")\n",
        "      print(\"Drive Safely\")\n",
        "else:\n",
        "  print(\"Sorry! You are not eligible\")"
      ]
    },
    {
      "cell_type": "code",
      "execution_count": null,
      "metadata": {
        "colab": {
          "base_uri": "https://localhost:8080/"
        },
        "id": "oQ49VgbQo7Wc",
        "outputId": "57e014f2-2e92-4fbd-bd48-b4440e81840c"
      },
      "outputs": [
        {
          "name": "stdout",
          "output_type": "stream",
          "text": [
            "12\n",
            "Positive Number\n",
            "Negative Number\n"
          ]
        }
      ],
      "source": [
        "# if elif and else\n",
        "# the elif condition is used to include multiple conditional expressions after the if condition.\n",
        "\n",
        "num=int(input())\n",
        "if num>0:\n",
        "  print(\"Positive Number\")\n",
        "if num==0:\n",
        "  print(\"Zero\")\n",
        "else:\n",
        "  print(\"Negative Number\")\n",
        "# it is not giving the correct information why because if, if then else. 1st statement passed so mentioned positive, 2nd is not statified, so automatically taken the else condition information and provided two values.\n",
        "# in this case use the elseif."
      ]
    },
    {
      "cell_type": "code",
      "execution_count": null,
      "metadata": {
        "colab": {
          "base_uri": "https://localhost:8080/"
        },
        "id": "FI35yjqKpll2",
        "outputId": "a80ec8a9-a79e-46f1-ca2d-07c745931694"
      },
      "outputs": [
        {
          "name": "stdout",
          "output_type": "stream",
          "text": [
            "-20\n",
            "Negative Number\n"
          ]
        }
      ],
      "source": [
        "# if elif and else\n",
        "# the elif condition is used to include multiple conditional expressions after the if condition.\n",
        "\n",
        "num=int(input())\n",
        "if num>0:\n",
        "  print(\"Positive Number\")\n",
        "elif num==0:\n",
        "  print(\"Zero\")\n",
        "else:\n",
        "  print(\"Negative Number\")"
      ]
    },
    {
      "cell_type": "code",
      "execution_count": null,
      "metadata": {
        "colab": {
          "base_uri": "https://localhost:8080/"
        },
        "id": "AV6yXZNBqira",
        "outputId": "df5b03ee-1363-4c6c-e581-d70c90b97eae"
      },
      "outputs": [
        {
          "name": "stdout",
          "output_type": "stream",
          "text": [
            "100\n",
            "100\n",
            "30\n"
          ]
        }
      ],
      "source": [
        "#Find maximum in a list\n",
        "# given marks of students in a class, find topper of the class\n",
        "# Consider the list in non empty\n",
        "\n",
        "marks=[90, 30, 100, 50, 80, 95]\n",
        "\n",
        "#iterate on the list use the for loop\n",
        "highest=marks[0]\n",
        "for i in marks:\n",
        "# check the condition\n",
        "  if i>highest:\n",
        "    highest=i\n",
        "print(highest)\n",
        "\n",
        "#use the max function\n",
        "print(max(marks))\n",
        "\n",
        "#use the min function\n",
        "print(min(marks))"
      ]
    },
    {
      "cell_type": "code",
      "execution_count": null,
      "metadata": {
        "colab": {
          "base_uri": "https://localhost:8080/"
        },
        "id": "OBvAMib-sGN5",
        "outputId": "3f960131-1b2a-40b6-d606-ddb987cfba19"
      },
      "outputs": [
        {
          "name": "stdout",
          "output_type": "stream",
          "text": [
            "80\n",
            "Very Good, You got the B Grade\n"
          ]
        }
      ],
      "source": [
        "#Grading System\n",
        "#A: marks equal and above 90\n",
        "#B: marks equal to 80 and less than 90\n",
        "#C: marks equal to 70 and less than 80\n",
        "#D: marks equal to 60 and less than 70\n",
        "#E: less than or 60\n",
        "\n",
        "marks=int(input())\n",
        "if marks>=90 and marks<=100:\n",
        "  print(\"Congratulations! You got the Grade A\")\n",
        "elif marks>=80 and marks <=90:\n",
        "  print(\"Very Good, You got the B Grade\")\n",
        "elif marks>=70 and marks<=80:\n",
        "  print(\"Good, You got the C Grade\")\n",
        "elif marks>=60 and marks<=70:\n",
        "  print(\"Better Luck Next time, You got the D Grade\")\n",
        "elif marks<=60:\n",
        "  print(\"Failed, You got the E Grade\")\n",
        "else:\n",
        "  print(\"Invalid\")"
      ]
    },
    {
      "cell_type": "markdown",
      "metadata": {
        "id": "FcFTr_R1vQTR"
      },
      "source": [
        "# Loops in Python  \n",
        "Loops means repeating the same process again and again: While and For  \n",
        "How to do the While loop: Intializing the value, Loop Condition, Updating value"
      ]
    },
    {
      "cell_type": "code",
      "execution_count": null,
      "metadata": {
        "colab": {
          "base_uri": "https://localhost:8080/"
        },
        "id": "I-mzFDYPwBxU",
        "outputId": "2dd5813c-da4f-406c-aa6e-ea2fcbc71fb2"
      },
      "outputs": [
        {
          "name": "stdout",
          "output_type": "stream",
          "text": [
            "Venu is the best!\n",
            "Venu is the best!\n",
            "Venu is the best!\n",
            "Venu is the best!\n",
            "Venu is the best!\n",
            "Venu is the best!\n"
          ]
        }
      ],
      "source": [
        "#intialize\n",
        "i=1\n",
        "#Loop Condition\n",
        "while i<=6:\n",
        "#inside the body\n",
        "  print(\"Venu is the best!\")\n",
        "#update the value\n",
        "  i+=1"
      ]
    },
    {
      "cell_type": "code",
      "execution_count": null,
      "metadata": {
        "colab": {
          "base_uri": "https://localhost:8080/"
        },
        "id": "m7C3NboS_1K_",
        "outputId": "5df223dc-0746-49af-cd03-afe691618add"
      },
      "outputs": [
        {
          "name": "stdout",
          "output_type": "stream",
          "text": [
            "0 1 2 3 4 5 6 7 8 9 10 "
          ]
        }
      ],
      "source": [
        "#print all the numbers from 0 to 10 using loop\n",
        "\n",
        "#intialize the value\n",
        "i=0\n",
        "#loop condition\n",
        "while i<=10:\n",
        "  #print(i)\n",
        "  print(i, end=\" \")\n",
        "#update value\n",
        "  i+=1"
      ]
    },
    {
      "cell_type": "code",
      "execution_count": 2,
      "metadata": {
        "colab": {
          "base_uri": "https://localhost:8080/"
        },
        "id": "pSf4MXGYBrRN",
        "outputId": "e799bdc9-d311-4519-a93b-ab5282af7063"
      },
      "outputs": [
        {
          "output_type": "stream",
          "name": "stdout",
          "text": [
            "0 2 4 6 8 10 "
          ]
        }
      ],
      "source": [
        "#print even numbers in given range example: 0 to 10\n",
        "\n",
        "#intialize the value\n",
        "i=0\n",
        "# loop condition\n",
        "while i<=10:\n",
        "  if i%2 ==0:\n",
        "    print(i, end=\" \")\n",
        "#update value\n",
        "  i+=1\n"
      ]
    },
    {
      "cell_type": "code",
      "source": [
        "#print odd numbers in given range example: 0 to 10\n",
        "#intialize the value\n",
        "i=0\n",
        "# loop condition\n",
        "while i<=10:\n",
        "  if i%2 ==1:\n",
        "    print(i, end=\" \")\n",
        "#update value\n",
        "  i+=1"
      ],
      "metadata": {
        "colab": {
          "base_uri": "https://localhost:8080/"
        },
        "id": "qE8urQe_EJxe",
        "outputId": "0b00e502-ce82-4c84-ecad-611a5a5eac9d"
      },
      "execution_count": 3,
      "outputs": [
        {
          "output_type": "stream",
          "name": "stdout",
          "text": [
            "1 3 5 7 9 "
          ]
        }
      ]
    },
    {
      "cell_type": "code",
      "source": [
        "#Print sum of all numbers from 1 to 10\n",
        "#intialize the value:\n",
        "i=1\n",
        "add=0\n",
        "while i<=10:\n",
        "  add+=i\n",
        "  print(add, end=\" \")\n",
        "  i+=1\n",
        "print()\n",
        "print(add)\n"
      ],
      "metadata": {
        "colab": {
          "base_uri": "https://localhost:8080/"
        },
        "id": "Aqye4vXGEVwP",
        "outputId": "1f3760aa-27ad-43ae-cc8b-416879aa40b8"
      },
      "execution_count": 7,
      "outputs": [
        {
          "output_type": "stream",
          "name": "stdout",
          "text": [
            "1 3 6 10 15 21 28 36 45 55 \n",
            "55\n"
          ]
        }
      ]
    },
    {
      "cell_type": "markdown",
      "source": [
        "Range Function  \n",
        "range() function allows users to generate series of numbers  \n",
        "it is iterable as well.  \n",
        "range function does contains: range(start,end,jump)  \n",
        "it always give the integer. and always starts with 0 as start."
      ],
      "metadata": {
        "id": "tED-TCuwF7QJ"
      }
    },
    {
      "cell_type": "code",
      "source": [
        "n=5\n",
        "range (n)\n",
        "list (range(5))"
      ],
      "metadata": {
        "colab": {
          "base_uri": "https://localhost:8080/"
        },
        "id": "ju5L5ywwF1Qm",
        "outputId": "820eced8-1f2e-475e-d53f-c0de70a4671f"
      },
      "execution_count": 12,
      "outputs": [
        {
          "output_type": "execute_result",
          "data": {
            "text/plain": [
              "[0, 1, 2, 3, 4]"
            ]
          },
          "metadata": {},
          "execution_count": 12
        }
      ]
    },
    {
      "cell_type": "code",
      "source": [
        "#start is included and end is excluded\n",
        "list (range(1,5))"
      ],
      "metadata": {
        "colab": {
          "base_uri": "https://localhost:8080/"
        },
        "id": "lMMe0qzOHL9d",
        "outputId": "69cf7c7f-26a9-4f2e-e78e-a5c5cb5381a6"
      },
      "execution_count": 13,
      "outputs": [
        {
          "output_type": "execute_result",
          "data": {
            "text/plain": [
              "[1, 2, 3, 4]"
            ]
          },
          "metadata": {},
          "execution_count": 13
        }
      ]
    },
    {
      "cell_type": "code",
      "source": [
        "list(range(1,10,2))"
      ],
      "metadata": {
        "colab": {
          "base_uri": "https://localhost:8080/"
        },
        "id": "VjtNikq_HVJE",
        "outputId": "98c4b6a4-1cc9-4971-d33f-f5891aefa62e"
      },
      "execution_count": 14,
      "outputs": [
        {
          "output_type": "execute_result",
          "data": {
            "text/plain": [
              "[1, 3, 5, 7, 9]"
            ]
          },
          "metadata": {},
          "execution_count": 14
        }
      ]
    },
    {
      "cell_type": "code",
      "source": [
        "list (range(10,1,-1))"
      ],
      "metadata": {
        "colab": {
          "base_uri": "https://localhost:8080/"
        },
        "id": "zmqYl3QoHkAS",
        "outputId": "18431a65-9b53-4569-c0e4-181577db9443"
      },
      "execution_count": 15,
      "outputs": [
        {
          "output_type": "execute_result",
          "data": {
            "text/plain": [
              "[10, 9, 8, 7, 6, 5, 4, 3, 2]"
            ]
          },
          "metadata": {},
          "execution_count": 15
        }
      ]
    },
    {
      "cell_type": "code",
      "source": [
        "list (range(10,1,1))\n",
        "#it will give the empty cell because it is not going in right side, if needs to go to left side (reverse order) then use -1."
      ],
      "metadata": {
        "colab": {
          "base_uri": "https://localhost:8080/"
        },
        "id": "mTFFZ6uOHqnm",
        "outputId": "6d67ca00-cdc6-453e-8b69-c5751915b4a7"
      },
      "execution_count": 16,
      "outputs": [
        {
          "output_type": "execute_result",
          "data": {
            "text/plain": [
              "[]"
            ]
          },
          "metadata": {},
          "execution_count": 16
        }
      ]
    },
    {
      "cell_type": "code",
      "source": [
        "list(range(10,-10,-2))"
      ],
      "metadata": {
        "colab": {
          "base_uri": "https://localhost:8080/"
        },
        "id": "CSOE2IcWH4G9",
        "outputId": "683920be-8e4a-475f-bf57-528a80056c1c"
      },
      "execution_count": 18,
      "outputs": [
        {
          "output_type": "execute_result",
          "data": {
            "text/plain": [
              "[10, 8, 6, 4, 2, 0, -2, -4, -6, -8]"
            ]
          },
          "metadata": {},
          "execution_count": 18
        }
      ]
    },
    {
      "cell_type": "markdown",
      "source": [
        "Iterator:the chocolate person  \n",
        "Iterable:giving chocolates to all the people in the class room  \n",
        "Iteration= iterator + iterable (loop is noting but iteration).  \n",
        "\n",
        "Iterator will iteerate in iterable..!\n"
      ],
      "metadata": {
        "id": "LXLXRxGSIk-K"
      }
    },
    {
      "cell_type": "code",
      "source": [
        "#Print 1 to 10 numbers in the same line by using for loop\n",
        "#i: iterator\n",
        "#range(); Iterable\n",
        "\n",
        "for i in range(1,11):\n",
        "  print(i, end=\" \")"
      ],
      "metadata": {
        "colab": {
          "base_uri": "https://localhost:8080/"
        },
        "id": "almT3FbuUw98",
        "outputId": "3b70f804-1a3b-4fcb-c05c-8b2eb8aaccae"
      },
      "execution_count": 20,
      "outputs": [
        {
          "output_type": "stream",
          "name": "stdout",
          "text": [
            "1 2 3 4 5 6 7 8 9 10 "
          ]
        }
      ]
    },
    {
      "cell_type": "code",
      "source": [
        "#print multiplication table of 5\n",
        "\n",
        "n=int(input(\"enter the number: \"))\n",
        "for i in range(1,11):\n",
        "  print(f\"{n} * {i} = {n*i}\")\n",
        "#f = is used for the formatted sring"
      ],
      "metadata": {
        "colab": {
          "base_uri": "https://localhost:8080/"
        },
        "id": "S9MTBb4oVmDB",
        "outputId": "0669fbbe-9a46-4e64-daba-2b22bfc6e062"
      },
      "execution_count": 31,
      "outputs": [
        {
          "output_type": "stream",
          "name": "stdout",
          "text": [
            "enter the number: 10\n",
            "10 * 1 = 10\n",
            "10 * 2 = 20\n",
            "10 * 3 = 30\n",
            "10 * 4 = 40\n",
            "10 * 5 = 50\n",
            "10 * 6 = 60\n",
            "10 * 7 = 70\n",
            "10 * 8 = 80\n",
            "10 * 9 = 90\n",
            "10 * 10 = 100\n"
          ]
        }
      ]
    },
    {
      "cell_type": "code",
      "source": [
        "n=4\n",
        "* * * *\n",
        "* * * *\n",
        "* * * *\n",
        "* * * *\n",
        "\n",
        "n=3\n",
        "* * *\n",
        "* * *\n",
        "* * *\n"
      ],
      "metadata": {
        "id": "CW55K4y_ZSVy"
      },
      "execution_count": null,
      "outputs": []
    },
    {
      "cell_type": "code",
      "source": [
        "for i in range(4):\n",
        "  print(\"*\", end=\" \")\n",
        "print()\n",
        "for i in range(4):\n",
        "  print(\"*\", end=\" \")\n",
        "print()\n",
        "for i in range(4):\n",
        "  print(\"*\", end=\" \")\n",
        "print()\n",
        "for i in range(4):\n",
        "  print(\"*\", end=\" \")\n",
        "print()"
      ],
      "metadata": {
        "colab": {
          "base_uri": "https://localhost:8080/"
        },
        "id": "295TLOOTZiyP",
        "outputId": "e6e40f85-3da7-4be2-97d4-97212165afe6"
      },
      "execution_count": 37,
      "outputs": [
        {
          "output_type": "stream",
          "name": "stdout",
          "text": [
            "* * * * \n",
            "* * * * \n",
            "* * * * \n",
            "* * * * \n"
          ]
        }
      ]
    },
    {
      "cell_type": "code",
      "source": [
        "#nested for loop\n",
        "for i in range(4):\n",
        "  for i in range(4):\n",
        "    print(\"*\", end=\" \")\n",
        "  print()"
      ],
      "metadata": {
        "colab": {
          "base_uri": "https://localhost:8080/"
        },
        "id": "84_bGAXIakzJ",
        "outputId": "71486952-49ea-462d-bf99-ffe3d29b6fd5"
      },
      "execution_count": 38,
      "outputs": [
        {
          "output_type": "stream",
          "name": "stdout",
          "text": [
            "* * * * \n",
            "* * * * \n",
            "* * * * \n",
            "* * * * \n"
          ]
        }
      ]
    },
    {
      "cell_type": "code",
      "source": [
        "n=int(input())\n",
        "#run for rows\n",
        "for i in range(1, n+1):\n",
        "  for j in range(i):\n",
        "    print(\"*\", end=\" \")\n",
        "  print()"
      ],
      "metadata": {
        "colab": {
          "base_uri": "https://localhost:8080/"
        },
        "id": "6SZQLcJxbTXF",
        "outputId": "d22edd3c-5f68-4506-c1cf-85c08bf30ed7"
      },
      "execution_count": 48,
      "outputs": [
        {
          "output_type": "stream",
          "name": "stdout",
          "text": [
            "5\n",
            "* \n",
            "* * \n",
            "* * * \n",
            "* * * * \n",
            "* * * * * \n"
          ]
        }
      ]
    },
    {
      "cell_type": "markdown",
      "source": [
        "break, continue and pass  \n",
        "These statements are used to alter the flow of a program  '\n",
        "\n",
        "*   break: Breaks the flow of program once the condition is hit.\n",
        "*   continue: It skips the perticular iteration.\n",
        "*   pass: To avoid syntax errors."
      ],
      "metadata": {
        "id": "ukRJmgF0dgyc"
      }
    },
    {
      "cell_type": "code",
      "source": [
        "for i in range(1,11):\n",
        "  if i==5:\n",
        "    break\n",
        "    #break after 5 onwards.\n",
        "  print(i, end=\" \")"
      ],
      "metadata": {
        "colab": {
          "base_uri": "https://localhost:8080/"
        },
        "id": "ES-WnmoOgJih",
        "outputId": "9c580c60-1801-4b79-d00f-e5d479454b6f"
      },
      "execution_count": 57,
      "outputs": [
        {
          "output_type": "stream",
          "name": "stdout",
          "text": [
            "1 2 3 4 "
          ]
        }
      ]
    },
    {
      "cell_type": "code",
      "source": [
        "for i in range(1,11):\n",
        "  if i==5:\n",
        "    continue\n",
        "    #skip 5 and continue other numbers.\n",
        "  print(i, end=\" \")"
      ],
      "metadata": {
        "colab": {
          "base_uri": "https://localhost:8080/"
        },
        "id": "E5wnwbielYlT",
        "outputId": "6b18c5ed-6d7a-42ba-a8e6-75409450c5a2"
      },
      "execution_count": 58,
      "outputs": [
        {
          "output_type": "stream",
          "name": "stdout",
          "text": [
            "1 2 3 4 6 7 8 9 10 "
          ]
        }
      ]
    },
    {
      "cell_type": "code",
      "source": [
        "for i in range(1,11):\n",
        "  pass"
      ],
      "metadata": {
        "id": "wqd-y34JllVr"
      },
      "execution_count": 61,
      "outputs": []
    },
    {
      "cell_type": "markdown",
      "source": [
        "# Strings  \n",
        "A string is a sequence of characters  \n",
        "Characters can be: Alphabets(small/capital), digits(0-9), whitespaces(space), special characters (@, #, $,...)  \n",
        "They can be defined using single, double, or triple quotes.  \n",
        "\n",
        "[ ] - are used for slicing in all the places, in data structues also we use [ ] for slicing. dont consider as a list."
      ],
      "metadata": {
        "id": "cSrqIs0Bl0Pn"
      }
    },
    {
      "cell_type": "code",
      "source": [
        "\"venu\" == \"unev\""
      ],
      "metadata": {
        "colab": {
          "base_uri": "https://localhost:8080/"
        },
        "id": "SaVEGc8kmU0_",
        "outputId": "024a9d7d-9360-4c5c-e38b-a59201494224"
      },
      "execution_count": 65,
      "outputs": [
        {
          "output_type": "execute_result",
          "data": {
            "text/plain": [
              "False"
            ]
          },
          "metadata": {},
          "execution_count": 65
        }
      ]
    },
    {
      "cell_type": "markdown",
      "source": [
        "**ord and chr**  -- Unicode\n",
        "these are used to find the encoding value of a character.  \n",
        "in the system every aplhanumeric, symbols, emoji, other language letters, etc..! have a specific encoding values, which are shown in the example below."
      ],
      "metadata": {
        "id": "IQWGnO9Snrxt"
      }
    },
    {
      "cell_type": "code",
      "source": [
        "ord(\"a\")"
      ],
      "metadata": {
        "colab": {
          "base_uri": "https://localhost:8080/"
        },
        "id": "A9da9HnRnpq5",
        "outputId": "aefffd5c-b7f7-4702-c21e-4212c8a5e69d"
      },
      "execution_count": 67,
      "outputs": [
        {
          "output_type": "execute_result",
          "data": {
            "text/plain": [
              "97"
            ]
          },
          "metadata": {},
          "execution_count": 67
        }
      ]
    },
    {
      "cell_type": "code",
      "source": [
        "ord (\"M\")"
      ],
      "metadata": {
        "colab": {
          "base_uri": "https://localhost:8080/"
        },
        "id": "3CnE-0eQqXvS",
        "outputId": "6554a479-b262-40c9-8a5c-b1c286f646ce"
      },
      "execution_count": 70,
      "outputs": [
        {
          "output_type": "execute_result",
          "data": {
            "text/plain": [
              "77"
            ]
          },
          "metadata": {},
          "execution_count": 70
        }
      ]
    },
    {
      "cell_type": "code",
      "source": [
        "chr (102)"
      ],
      "metadata": {
        "colab": {
          "base_uri": "https://localhost:8080/",
          "height": 35
        },
        "id": "-Y_pQpCmqy-P",
        "outputId": "e3ec0a76-909c-4ed1-c9b4-2970883ff507"
      },
      "execution_count": 71,
      "outputs": [
        {
          "output_type": "execute_result",
          "data": {
            "text/plain": [
              "'f'"
            ],
            "application/vnd.google.colaboratory.intrinsic+json": {
              "type": "string"
            }
          },
          "metadata": {},
          "execution_count": 71
        }
      ]
    },
    {
      "cell_type": "code",
      "source": [
        "chr (2325)"
      ],
      "metadata": {
        "colab": {
          "base_uri": "https://localhost:8080/",
          "height": 35
        },
        "id": "VlF_6-6Fq4lU",
        "outputId": "f800eb66-92e8-495d-f934-0a2257e721e5"
      },
      "execution_count": 74,
      "outputs": [
        {
          "output_type": "execute_result",
          "data": {
            "text/plain": [
              "'क'"
            ],
            "application/vnd.google.colaboratory.intrinsic+json": {
              "type": "string"
            }
          },
          "metadata": {},
          "execution_count": 74
        }
      ]
    },
    {
      "cell_type": "markdown",
      "source": [
        "**Indexing in a String:**  \n",
        "String always starts from 0  \n",
        "for example: venu  \n",
        "v=0, e=1, n=2, u=3.  \n",
        "if you find out the total length of the string is n-1 which means 4 letters, 4-1 = 3.  \n",
        "if you want to give the negative indexing so it should be like = -(lenght of string). which usually starts with -1, -2, -3, ...    "
      ],
      "metadata": {
        "id": "LEGvWdQyrDdY"
      }
    },
    {
      "cell_type": "code",
      "source": [
        "name=\"venu gopal\"\n",
        "name"
      ],
      "metadata": {
        "colab": {
          "base_uri": "https://localhost:8080/",
          "height": 35
        },
        "id": "3ktdvARksNSE",
        "outputId": "42d82e50-8d5a-4279-9397-3534ad933258"
      },
      "execution_count": 75,
      "outputs": [
        {
          "output_type": "execute_result",
          "data": {
            "text/plain": [
              "'venu gopal'"
            ],
            "application/vnd.google.colaboratory.intrinsic+json": {
              "type": "string"
            }
          },
          "metadata": {},
          "execution_count": 75
        }
      ]
    },
    {
      "cell_type": "code",
      "source": [
        "name[0]"
      ],
      "metadata": {
        "colab": {
          "base_uri": "https://localhost:8080/",
          "height": 35
        },
        "id": "lCk489IysTvD",
        "outputId": "95ae28ca-87c7-4be9-c23c-ceb1e94b16e5"
      },
      "execution_count": 76,
      "outputs": [
        {
          "output_type": "execute_result",
          "data": {
            "text/plain": [
              "'v'"
            ],
            "application/vnd.google.colaboratory.intrinsic+json": {
              "type": "string"
            }
          },
          "metadata": {},
          "execution_count": 76
        }
      ]
    },
    {
      "cell_type": "code",
      "source": [
        "name[5]"
      ],
      "metadata": {
        "colab": {
          "base_uri": "https://localhost:8080/",
          "height": 35
        },
        "id": "0-rY4w-lsWOv",
        "outputId": "8452949b-0d68-427c-ff73-687535ba4607"
      },
      "execution_count": 77,
      "outputs": [
        {
          "output_type": "execute_result",
          "data": {
            "text/plain": [
              "'g'"
            ],
            "application/vnd.google.colaboratory.intrinsic+json": {
              "type": "string"
            }
          },
          "metadata": {},
          "execution_count": 77
        }
      ]
    },
    {
      "cell_type": "code",
      "source": [
        "name[-1]"
      ],
      "metadata": {
        "colab": {
          "base_uri": "https://localhost:8080/",
          "height": 35
        },
        "id": "9rxRlCnVsasI",
        "outputId": "608d79c9-937c-4733-ca55-fcb1639674ff"
      },
      "execution_count": 78,
      "outputs": [
        {
          "output_type": "execute_result",
          "data": {
            "text/plain": [
              "'l'"
            ],
            "application/vnd.google.colaboratory.intrinsic+json": {
              "type": "string"
            }
          },
          "metadata": {},
          "execution_count": 78
        }
      ]
    },
    {
      "cell_type": "code",
      "source": [
        "len(name)"
      ],
      "metadata": {
        "colab": {
          "base_uri": "https://localhost:8080/"
        },
        "id": "JCLdn3XHseqz",
        "outputId": "42c81786-b978-418b-dbff-2e1145523360"
      },
      "execution_count": 79,
      "outputs": [
        {
          "output_type": "execute_result",
          "data": {
            "text/plain": [
              "10"
            ]
          },
          "metadata": {},
          "execution_count": 79
        }
      ]
    },
    {
      "cell_type": "code",
      "source": [
        "len(\"gopal\")"
      ],
      "metadata": {
        "colab": {
          "base_uri": "https://localhost:8080/"
        },
        "id": "leoQWrFnsnMa",
        "outputId": "048b2d2d-8d24-4d14-f25c-1de4a4032dd9"
      },
      "execution_count": 80,
      "outputs": [
        {
          "output_type": "execute_result",
          "data": {
            "text/plain": [
              "5"
            ]
          },
          "metadata": {},
          "execution_count": 80
        }
      ]
    },
    {
      "cell_type": "code",
      "source": [
        "size=len(name)\n",
        "print(name[-size])\n",
        "print(size)"
      ],
      "metadata": {
        "colab": {
          "base_uri": "https://localhost:8080/"
        },
        "id": "DDO6pUleswXU",
        "outputId": "f41c89a2-3716-4439-c273-cf7cc298b1d8"
      },
      "execution_count": 82,
      "outputs": [
        {
          "output_type": "stream",
          "name": "stdout",
          "text": [
            "v\n",
            "10\n"
          ]
        }
      ]
    },
    {
      "cell_type": "markdown",
      "source": [
        "**String Slicing**  \n",
        "for slice use starting point and end point [start:end]  \n",
        "if you want to add jump you can by using [start:end:jump]"
      ],
      "metadata": {
        "id": "-ax4IGLftWOf"
      }
    },
    {
      "cell_type": "code",
      "source": [
        "name=\"venu gopal\"\n",
        "name[0:4]"
      ],
      "metadata": {
        "colab": {
          "base_uri": "https://localhost:8080/",
          "height": 35
        },
        "id": "5gQMX5DHtSYY",
        "outputId": "553a5d92-f22b-4009-d7d5-0eba9eaef651"
      },
      "execution_count": 85,
      "outputs": [
        {
          "output_type": "execute_result",
          "data": {
            "text/plain": [
              "'venu'"
            ],
            "application/vnd.google.colaboratory.intrinsic+json": {
              "type": "string"
            }
          },
          "metadata": {},
          "execution_count": 85
        }
      ]
    },
    {
      "cell_type": "code",
      "source": [
        "size=len(name)\n",
        "name[5:size]"
      ],
      "metadata": {
        "colab": {
          "base_uri": "https://localhost:8080/",
          "height": 35
        },
        "id": "vhMokK_Mt_US",
        "outputId": "568aa734-d985-465b-ec66-d99e39bcf3f6"
      },
      "execution_count": 90,
      "outputs": [
        {
          "output_type": "execute_result",
          "data": {
            "text/plain": [
              "'gopal'"
            ],
            "application/vnd.google.colaboratory.intrinsic+json": {
              "type": "string"
            }
          },
          "metadata": {},
          "execution_count": 90
        }
      ]
    },
    {
      "cell_type": "code",
      "source": [
        "#this will give the whole list\n",
        "name[:]"
      ],
      "metadata": {
        "colab": {
          "base_uri": "https://localhost:8080/",
          "height": 35
        },
        "id": "PhZmfGPKuPkt",
        "outputId": "f8815a89-e8ca-40b6-adaa-71b8a175a104"
      },
      "execution_count": 91,
      "outputs": [
        {
          "output_type": "execute_result",
          "data": {
            "text/plain": [
              "'venu gopal'"
            ],
            "application/vnd.google.colaboratory.intrinsic+json": {
              "type": "string"
            }
          },
          "metadata": {},
          "execution_count": 91
        }
      ]
    },
    {
      "cell_type": "code",
      "source": [
        "#using Jump in the name string.\n",
        "name[::3]"
      ],
      "metadata": {
        "colab": {
          "base_uri": "https://localhost:8080/",
          "height": 35
        },
        "id": "ssGOu6vWukqu",
        "outputId": "21fbf911-0f6c-4a1a-91f0-ac4a17cd7e4c"
      },
      "execution_count": 92,
      "outputs": [
        {
          "output_type": "execute_result",
          "data": {
            "text/plain": [
              "'vuol'"
            ],
            "application/vnd.google.colaboratory.intrinsic+json": {
              "type": "string"
            }
          },
          "metadata": {},
          "execution_count": 92
        }
      ]
    },
    {
      "cell_type": "code",
      "source": [
        "name[:-1]"
      ],
      "metadata": {
        "colab": {
          "base_uri": "https://localhost:8080/",
          "height": 35
        },
        "id": "kruzIUnsuxfR",
        "outputId": "80a21053-0d13-467e-bb74-43c6ab123260"
      },
      "execution_count": 95,
      "outputs": [
        {
          "output_type": "execute_result",
          "data": {
            "text/plain": [
              "'venu gopa'"
            ],
            "application/vnd.google.colaboratory.intrinsic+json": {
              "type": "string"
            }
          },
          "metadata": {},
          "execution_count": 95
        }
      ]
    },
    {
      "cell_type": "code",
      "source": [
        "name [-2]"
      ],
      "metadata": {
        "colab": {
          "base_uri": "https://localhost:8080/",
          "height": 35
        },
        "id": "At_aXvZdu7sZ",
        "outputId": "1149a756-5fc3-4bfa-c961-3c83f96ca9a2"
      },
      "execution_count": 96,
      "outputs": [
        {
          "output_type": "execute_result",
          "data": {
            "text/plain": [
              "'a'"
            ],
            "application/vnd.google.colaboratory.intrinsic+json": {
              "type": "string"
            }
          },
          "metadata": {},
          "execution_count": 96
        }
      ]
    },
    {
      "cell_type": "code",
      "source": [
        "name[1:-2:-1]"
      ],
      "metadata": {
        "colab": {
          "base_uri": "https://localhost:8080/",
          "height": 35
        },
        "id": "myVNj3V6vG-j",
        "outputId": "19ea8391-ad43-4b85-ed6d-de4fdcd6e469"
      },
      "execution_count": 98,
      "outputs": [
        {
          "output_type": "execute_result",
          "data": {
            "text/plain": [
              "''"
            ],
            "application/vnd.google.colaboratory.intrinsic+json": {
              "type": "string"
            }
          },
          "metadata": {},
          "execution_count": 98
        }
      ]
    },
    {
      "cell_type": "code",
      "source": [
        "name [-1:0]"
      ],
      "metadata": {
        "colab": {
          "base_uri": "https://localhost:8080/",
          "height": 35
        },
        "id": "vDcnqfiJvess",
        "outputId": "b0ec2dd2-a893-481d-9f0b-f54750c6357b"
      },
      "execution_count": 99,
      "outputs": [
        {
          "output_type": "execute_result",
          "data": {
            "text/plain": [
              "''"
            ],
            "application/vnd.google.colaboratory.intrinsic+json": {
              "type": "string"
            }
          },
          "metadata": {},
          "execution_count": 99
        }
      ]
    },
    {
      "cell_type": "code",
      "source": [
        "name[-1:0:-1]"
      ],
      "metadata": {
        "colab": {
          "base_uri": "https://localhost:8080/",
          "height": 35
        },
        "id": "kXbsBsDWvjkq",
        "outputId": "6acc0551-1118-4eb4-8586-ea44eb970f66"
      },
      "execution_count": 100,
      "outputs": [
        {
          "output_type": "execute_result",
          "data": {
            "text/plain": [
              "'lapog une'"
            ],
            "application/vnd.google.colaboratory.intrinsic+json": {
              "type": "string"
            }
          },
          "metadata": {},
          "execution_count": 100
        }
      ]
    },
    {
      "cell_type": "code",
      "source": [
        "name [::-1]"
      ],
      "metadata": {
        "colab": {
          "base_uri": "https://localhost:8080/",
          "height": 35
        },
        "id": "dGLa-LGcvp_n",
        "outputId": "9f9ffb26-9f57-4e8f-9b7e-5e031a759079"
      },
      "execution_count": 101,
      "outputs": [
        {
          "output_type": "execute_result",
          "data": {
            "text/plain": [
              "'lapog unev'"
            ],
            "application/vnd.google.colaboratory.intrinsic+json": {
              "type": "string"
            }
          },
          "metadata": {},
          "execution_count": 101
        }
      ]
    },
    {
      "cell_type": "code",
      "source": [
        "name[-1 : -(len(name)+1) : -1]"
      ],
      "metadata": {
        "colab": {
          "base_uri": "https://localhost:8080/",
          "height": 35
        },
        "id": "SYEC1sa_wK_G",
        "outputId": "d2d67f17-855f-4f58-d589-aab822ded35a"
      },
      "execution_count": 103,
      "outputs": [
        {
          "output_type": "execute_result",
          "data": {
            "text/plain": [
              "'lapog unev'"
            ],
            "application/vnd.google.colaboratory.intrinsic+json": {
              "type": "string"
            }
          },
          "metadata": {},
          "execution_count": 103
        }
      ]
    },
    {
      "cell_type": "markdown",
      "source": [
        "**String Methods** - Even though you are using the string mentods, you can do many things for that occurance. But it wont change the default string value.\n",
        "*   capitalize\n",
        "*   title\n",
        "*   upper\n",
        "*   lower\n",
        "*   find\n",
        "*   count\n",
        "*   index\n",
        "*   replace\n",
        "*   split\n",
        "*   islower\n",
        "*   isupper\n",
        "*   isnumeric\n",
        "*   isalpha"
      ],
      "metadata": {
        "id": "-zsIxxZhwpO2"
      }
    },
    {
      "cell_type": "code",
      "source": [
        "name=\"venu gopal\"\n",
        "name.capitalize()"
      ],
      "metadata": {
        "colab": {
          "base_uri": "https://localhost:8080/",
          "height": 35
        },
        "id": "MLX4oW58xQvT",
        "outputId": "6035876c-a088-4764-d920-fa7260341f67"
      },
      "execution_count": 104,
      "outputs": [
        {
          "output_type": "execute_result",
          "data": {
            "text/plain": [
              "'Venu gopal'"
            ],
            "application/vnd.google.colaboratory.intrinsic+json": {
              "type": "string"
            }
          },
          "metadata": {},
          "execution_count": 104
        }
      ]
    },
    {
      "cell_type": "code",
      "source": [
        "name.title()"
      ],
      "metadata": {
        "colab": {
          "base_uri": "https://localhost:8080/",
          "height": 35
        },
        "id": "lmQqMWv7xali",
        "outputId": "80d30197-4e2c-4c61-884b-761a0af8eede"
      },
      "execution_count": 105,
      "outputs": [
        {
          "output_type": "execute_result",
          "data": {
            "text/plain": [
              "'Venu Gopal'"
            ],
            "application/vnd.google.colaboratory.intrinsic+json": {
              "type": "string"
            }
          },
          "metadata": {},
          "execution_count": 105
        }
      ]
    },
    {
      "cell_type": "code",
      "source": [
        "name.upper()"
      ],
      "metadata": {
        "colab": {
          "base_uri": "https://localhost:8080/",
          "height": 35
        },
        "id": "ZPtb0n6RxemB",
        "outputId": "82f9c038-074c-4a57-8f1a-ec2f9b302700"
      },
      "execution_count": 106,
      "outputs": [
        {
          "output_type": "execute_result",
          "data": {
            "text/plain": [
              "'VENU GOPAL'"
            ],
            "application/vnd.google.colaboratory.intrinsic+json": {
              "type": "string"
            }
          },
          "metadata": {},
          "execution_count": 106
        }
      ]
    },
    {
      "cell_type": "code",
      "source": [
        "name.find(\"a\")"
      ],
      "metadata": {
        "colab": {
          "base_uri": "https://localhost:8080/"
        },
        "id": "ENck0p1rxhji",
        "outputId": "4b84f166-2a5d-4e0f-fbe8-92ec3776c258"
      },
      "execution_count": 109,
      "outputs": [
        {
          "output_type": "execute_result",
          "data": {
            "text/plain": [
              "8"
            ]
          },
          "metadata": {},
          "execution_count": 109
        }
      ]
    },
    {
      "cell_type": "code",
      "source": [
        "name.count(\"z\")"
      ],
      "metadata": {
        "colab": {
          "base_uri": "https://localhost:8080/"
        },
        "id": "45NBy06ByNeO",
        "outputId": "c4d2f676-f900-41c1-ee64-f0d8b49105f2"
      },
      "execution_count": 112,
      "outputs": [
        {
          "output_type": "execute_result",
          "data": {
            "text/plain": [
              "0"
            ]
          },
          "metadata": {},
          "execution_count": 112
        }
      ]
    },
    {
      "cell_type": "code",
      "source": [
        "name.index(\"n\")"
      ],
      "metadata": {
        "colab": {
          "base_uri": "https://localhost:8080/"
        },
        "id": "z0-WuZ7wycj2",
        "outputId": "1e070df0-ecb7-485c-f102-0d98a6a89188"
      },
      "execution_count": 115,
      "outputs": [
        {
          "output_type": "execute_result",
          "data": {
            "text/plain": [
              "2"
            ]
          },
          "metadata": {},
          "execution_count": 115
        }
      ]
    },
    {
      "cell_type": "code",
      "source": [
        "name.replace(\"e\", \"E\")"
      ],
      "metadata": {
        "colab": {
          "base_uri": "https://localhost:8080/",
          "height": 35
        },
        "id": "HcYGKunbykhV",
        "outputId": "8fe10cd1-31bc-4d41-b61c-e66c9e5f7e99"
      },
      "execution_count": 117,
      "outputs": [
        {
          "output_type": "execute_result",
          "data": {
            "text/plain": [
              "'vEnu gopal'"
            ],
            "application/vnd.google.colaboratory.intrinsic+json": {
              "type": "string"
            }
          },
          "metadata": {},
          "execution_count": 117
        }
      ]
    },
    {
      "cell_type": "code",
      "source": [
        "name"
      ],
      "metadata": {
        "colab": {
          "base_uri": "https://localhost:8080/",
          "height": 35
        },
        "id": "KIVYSQPQzI2Z",
        "outputId": "8e0f992e-102e-419c-cf68-edce632d9168"
      },
      "execution_count": 118,
      "outputs": [
        {
          "output_type": "execute_result",
          "data": {
            "text/plain": [
              "'venu gopal'"
            ],
            "application/vnd.google.colaboratory.intrinsic+json": {
              "type": "string"
            }
          },
          "metadata": {},
          "execution_count": 118
        }
      ]
    },
    {
      "cell_type": "code",
      "source": [
        "name.split()"
      ],
      "metadata": {
        "colab": {
          "base_uri": "https://localhost:8080/"
        },
        "id": "r9UzmomFzKqD",
        "outputId": "c79b7edd-6b8f-44a1-bf8b-0e1cba6733ac"
      },
      "execution_count": 119,
      "outputs": [
        {
          "output_type": "execute_result",
          "data": {
            "text/plain": [
              "['venu', 'gopal']"
            ]
          },
          "metadata": {},
          "execution_count": 119
        }
      ]
    },
    {
      "cell_type": "code",
      "source": [
        "name.split(\"e\")\n",
        "#you can break inbetween by using the split letter, no need to have a space to break"
      ],
      "metadata": {
        "colab": {
          "base_uri": "https://localhost:8080/"
        },
        "id": "LcTYZb2czdsR",
        "outputId": "e918f330-0f46-4522-d3f1-30d771547d21"
      },
      "execution_count": 122,
      "outputs": [
        {
          "output_type": "execute_result",
          "data": {
            "text/plain": [
              "['v', 'nu gopal']"
            ]
          },
          "metadata": {},
          "execution_count": 122
        }
      ]
    },
    {
      "cell_type": "code",
      "source": [
        "name.islower()"
      ],
      "metadata": {
        "colab": {
          "base_uri": "https://localhost:8080/"
        },
        "id": "kgnMVGTEzUZP",
        "outputId": "a5fff320-90f2-4a21-94fa-92fd685ee316"
      },
      "execution_count": 120,
      "outputs": [
        {
          "output_type": "execute_result",
          "data": {
            "text/plain": [
              "True"
            ]
          },
          "metadata": {},
          "execution_count": 120
        }
      ]
    },
    {
      "cell_type": "code",
      "source": [
        "name.isupper()"
      ],
      "metadata": {
        "colab": {
          "base_uri": "https://localhost:8080/"
        },
        "id": "z6guhpsrzX6A",
        "outputId": "f92b00a3-e053-4d27-81ca-811115af776a"
      },
      "execution_count": 121,
      "outputs": [
        {
          "output_type": "execute_result",
          "data": {
            "text/plain": [
              "False"
            ]
          },
          "metadata": {},
          "execution_count": 121
        }
      ]
    },
    {
      "cell_type": "code",
      "source": [
        "name.isalpha()"
      ],
      "metadata": {
        "colab": {
          "base_uri": "https://localhost:8080/"
        },
        "id": "ghci-wEqzuZc",
        "outputId": "fd0fd741-5925-4f00-e89c-454746db996a"
      },
      "execution_count": 123,
      "outputs": [
        {
          "output_type": "execute_result",
          "data": {
            "text/plain": [
              "False"
            ]
          },
          "metadata": {},
          "execution_count": 123
        }
      ]
    },
    {
      "cell_type": "code",
      "source": [
        "\"venu\".isalpha()"
      ],
      "metadata": {
        "colab": {
          "base_uri": "https://localhost:8080/"
        },
        "id": "Soe1IFPt0JfY",
        "outputId": "272f4f61-bd40-4c1a-dd1c-9c563c994032"
      },
      "execution_count": 129,
      "outputs": [
        {
          "output_type": "execute_result",
          "data": {
            "text/plain": [
              "True"
            ]
          },
          "metadata": {},
          "execution_count": 129
        }
      ]
    },
    {
      "cell_type": "code",
      "source": [
        "name.isnumeric()"
      ],
      "metadata": {
        "colab": {
          "base_uri": "https://localhost:8080/"
        },
        "id": "R3Lx_Ciqz0f6",
        "outputId": "82831752-26b6-46d1-e397-73563a372b53"
      },
      "execution_count": 125,
      "outputs": [
        {
          "output_type": "execute_result",
          "data": {
            "text/plain": [
              "False"
            ]
          },
          "metadata": {},
          "execution_count": 125
        }
      ]
    },
    {
      "cell_type": "code",
      "source": [
        "\"2\".isnumeric()"
      ],
      "metadata": {
        "colab": {
          "base_uri": "https://localhost:8080/"
        },
        "id": "D_rJFvUqz-vW",
        "outputId": "52ff18ef-39ac-4bac-8774-6098ae30600e"
      },
      "execution_count": 128,
      "outputs": [
        {
          "output_type": "execute_result",
          "data": {
            "text/plain": [
              "True"
            ]
          },
          "metadata": {},
          "execution_count": 128
        }
      ]
    },
    {
      "cell_type": "markdown",
      "source": [
        "**Sring Formating**  \n"
      ],
      "metadata": {
        "id": "j3SDZwPd0SVA"
      }
    },
    {
      "cell_type": "code",
      "source": [
        "name=input()\n",
        "age=int(input())\n",
        "# here we will lot many grammatical issues\n",
        "print(\"Hey my name is\", name, \". and my age is \", age)\n",
        "print(\"Hey my name is\", name,\".\" \" and my age is \", age)\n",
        "\n",
        "#The formating methods are available from Python 3.6 Version and above\n",
        "#using format method\n",
        "print(\"Hey my name is {} and my age is {}.\".format(name, age))\n",
        "#using advance format method\n",
        "print(f\"Hey my name is {name} and my age is {age}.\")"
      ],
      "metadata": {
        "colab": {
          "base_uri": "https://localhost:8080/"
        },
        "id": "XqaYYr8u0dfo",
        "outputId": "3be6938e-57d0-493b-cad4-2ad160ab0785"
      },
      "execution_count": 135,
      "outputs": [
        {
          "output_type": "stream",
          "name": "stdout",
          "text": [
            "Venu \n",
            "34\n",
            "Hey my name is Venu  . and my age is  34\n",
            "Hey my name is Venu  . and my age is  34\n",
            "Hey my name is Venu  and my age is 34.\n",
            "Hey my name is Venu  and my age is 34.\n"
          ]
        }
      ]
    },
    {
      "cell_type": "markdown",
      "source": [
        "**String Concatination**"
      ],
      "metadata": {
        "id": "hH6_ttRW6uPE"
      }
    },
    {
      "cell_type": "code",
      "source": [
        "first=input()\n",
        "second=input()\n",
        "\n",
        "print(first + second)"
      ],
      "metadata": {
        "colab": {
          "base_uri": "https://localhost:8080/"
        },
        "id": "sGZBgeK66tFk",
        "outputId": "4d723f65-6e01-44a0-9854-982ffb4761c7"
      },
      "execution_count": 136,
      "outputs": [
        {
          "output_type": "stream",
          "name": "stdout",
          "text": [
            "Venu \n",
            "Gopal\n",
            "Venu Gopal\n"
          ]
        }
      ]
    },
    {
      "cell_type": "markdown",
      "source": [
        "**Strings Examples:**  - using quotes for the stings.\n",
        "\"2\"+\"a\"= '2a'  \n",
        "\"a\"+\"a\"+\"a\"= 'aaa'  \n",
        "\"2\" + \"2\" = '22'    \n",
        "\"a\"x3 ='aaa'  \n",
        "\"2\"+2= error (you cant add a string and integer. But you can multiple the string with a number)  \n",
        "\"Venu\"x\"Gopal\"=error (here you cant multiple the two stings)  \n",
        "**Integer Example:**  \n",
        "2+2 = 4"
      ],
      "metadata": {
        "id": "G_ImAbSo7VhI"
      }
    },
    {
      "cell_type": "code",
      "source": [
        "#print all the vowels fo a given string\n",
        "\n",
        "text=\"You cant add a string and integer. But you can multiple the string with a number\"\n",
        "for i in text:\n",
        "  if i==\"a\" or i==\"e\" or i==\"i\" or i==\"o\" or i==\"u\":\n",
        "    print(i, end=\" \")"
      ],
      "metadata": {
        "colab": {
          "base_uri": "https://localhost:8080/"
        },
        "id": "X-L3iewL8hAW",
        "outputId": "0ad61dd6-518a-4b29-9b10-f091ed625f98"
      },
      "execution_count": 148,
      "outputs": [
        {
          "output_type": "stream",
          "name": "stdout",
          "text": [
            "o u a a a i a i e e u o u a u i e e i i a u e "
          ]
        }
      ]
    },
    {
      "cell_type": "code",
      "source": [
        "# Find a string is a pallindrome or not.\n",
        "#which means reverse also have the same spelling; example: radar, which means reverse of a string also have the same spelling.\n",
        "s=input()\n",
        "#reverse by using string slicing through s[::-1]\n",
        "if s==s[::-1]:\n",
        "  print(\"Yes\")\n",
        "else:\n",
        "  print(\"No\")"
      ],
      "metadata": {
        "colab": {
          "base_uri": "https://localhost:8080/"
        },
        "id": "EqZo2CHu93cG",
        "outputId": "6f64432b-e531-4ba0-9f80-aabee413caf1"
      },
      "execution_count": 155,
      "outputs": [
        {
          "output_type": "stream",
          "name": "stdout",
          "text": [
            "radar\n",
            "Yes\n"
          ]
        }
      ]
    },
    {
      "cell_type": "markdown",
      "source": [
        "# Data Structures\n",
        "A data structures is a specialized format for organizing, processing, retriving and storing data.  \n",
        "Lists [ ], Tuples ( ), Dictionary, Sets"
      ],
      "metadata": {
        "id": "34DkWqRb_CrX"
      }
    },
    {
      "cell_type": "markdown",
      "source": [
        "**[Lists]**  -- works same like string  **bold text**\n",
        "Ordered collection of data,   \n",
        "Lists are mutable type of data structures,   \n",
        "It can contain multiple type of data,   \n",
        "Lists are changeable(mutable), lists are iterable.\n"
      ],
      "metadata": {
        "id": "QegNcCjf_OBa"
      }
    },
    {
      "cell_type": "code",
      "source": [
        "l1=[2,4,6,8]\n",
        "id(l1)"
      ],
      "metadata": {
        "colab": {
          "base_uri": "https://localhost:8080/"
        },
        "id": "i1Ch9M8jCife",
        "outputId": "4bd9d20c-dd3d-4577-ec09-847b0cb9c4e4"
      },
      "execution_count": 172,
      "outputs": [
        {
          "output_type": "execute_result",
          "data": {
            "text/plain": [
              "134994025544896"
            ]
          },
          "metadata": {},
          "execution_count": 172
        }
      ]
    },
    {
      "cell_type": "code",
      "source": [
        "l1[1]"
      ],
      "metadata": {
        "colab": {
          "base_uri": "https://localhost:8080/"
        },
        "id": "qnpfPr_SDxjk",
        "outputId": "14e52a5c-0833-4e4d-b7da-5fd0aeccf230"
      },
      "execution_count": 173,
      "outputs": [
        {
          "output_type": "execute_result",
          "data": {
            "text/plain": [
              "4"
            ]
          },
          "metadata": {},
          "execution_count": 173
        }
      ]
    },
    {
      "cell_type": "code",
      "source": [
        "l1[1] = 5"
      ],
      "metadata": {
        "id": "MnGp9_lcEbLm"
      },
      "execution_count": 174,
      "outputs": []
    },
    {
      "cell_type": "code",
      "source": [
        "print(l1)"
      ],
      "metadata": {
        "colab": {
          "base_uri": "https://localhost:8080/"
        },
        "id": "At4MuXw0F3tZ",
        "outputId": "0cd8165e-4b7b-4694-a6de-ccc3f9fc4af0"
      },
      "execution_count": 175,
      "outputs": [
        {
          "output_type": "stream",
          "name": "stdout",
          "text": [
            "[2, 5, 6, 8]\n"
          ]
        }
      ]
    },
    {
      "cell_type": "code",
      "source": [
        "id(l1)\n",
        "# even the value changed in the list, the memory location address wont change."
      ],
      "metadata": {
        "colab": {
          "base_uri": "https://localhost:8080/"
        },
        "id": "Qn-dUve3GNN7",
        "outputId": "91aa27a6-4a7a-4d5e-becf-5d6f8de60022"
      },
      "execution_count": 176,
      "outputs": [
        {
          "output_type": "execute_result",
          "data": {
            "text/plain": [
              "134994025544896"
            ]
          },
          "metadata": {},
          "execution_count": 176
        }
      ]
    },
    {
      "cell_type": "code",
      "source": [
        "for i in l1:\n",
        "  print(i)\n",
        "\n",
        "# lists are iterative"
      ],
      "metadata": {
        "colab": {
          "base_uri": "https://localhost:8080/"
        },
        "id": "dbVjHoWZGmSR",
        "outputId": "52926cf2-ff07-48c3-da1b-fb4d3a92a34d"
      },
      "execution_count": 178,
      "outputs": [
        {
          "output_type": "stream",
          "name": "stdout",
          "text": [
            "2\n",
            "5\n",
            "6\n",
            "8\n"
          ]
        }
      ]
    },
    {
      "cell_type": "code",
      "source": [
        "#Slicing works as same as strings.\n",
        "l1[0:3]"
      ],
      "metadata": {
        "colab": {
          "base_uri": "https://localhost:8080/"
        },
        "id": "BgftYJGnGw9o",
        "outputId": "3f5e1629-9d69-431e-959c-8ce4fc642a63"
      },
      "execution_count": 180,
      "outputs": [
        {
          "output_type": "execute_result",
          "data": {
            "text/plain": [
              "[2, 5, 6]"
            ]
          },
          "metadata": {},
          "execution_count": 180
        }
      ]
    },
    {
      "cell_type": "code",
      "source": [
        "l1[::-1]"
      ],
      "metadata": {
        "colab": {
          "base_uri": "https://localhost:8080/"
        },
        "id": "HqjoYLXxHBcy",
        "outputId": "d1f3dfbe-fb77-4aa3-9617-9e10188bb0d9"
      },
      "execution_count": 181,
      "outputs": [
        {
          "output_type": "execute_result",
          "data": {
            "text/plain": [
              "[8, 6, 5, 2]"
            ]
          },
          "metadata": {},
          "execution_count": 181
        }
      ]
    },
    {
      "cell_type": "markdown",
      "source": [
        "**List inbuild Methods**  \n",
        "count, index, pop, remove, sort, insert, append, extend"
      ],
      "metadata": {
        "id": "uOrbpM13HaxR"
      }
    },
    {
      "cell_type": "code",
      "source": [
        "budget=[100, 200, 300, 100]"
      ],
      "metadata": {
        "id": "bD2UfLhIHnpk"
      },
      "execution_count": 183,
      "outputs": []
    },
    {
      "cell_type": "code",
      "source": [
        "budget.count(100)"
      ],
      "metadata": {
        "colab": {
          "base_uri": "https://localhost:8080/"
        },
        "id": "tFVgJlLJH3Pt",
        "outputId": "a283929d-3098-4630-da12-82aa98ee0251"
      },
      "execution_count": 184,
      "outputs": [
        {
          "output_type": "execute_result",
          "data": {
            "text/plain": [
              "2"
            ]
          },
          "metadata": {},
          "execution_count": 184
        }
      ]
    },
    {
      "cell_type": "code",
      "source": [
        "budget.count(500)"
      ],
      "metadata": {
        "colab": {
          "base_uri": "https://localhost:8080/"
        },
        "id": "4pa861E5ICBX",
        "outputId": "5e43af9f-e994-4ecb-c9bf-6d5789c58a61"
      },
      "execution_count": 185,
      "outputs": [
        {
          "output_type": "execute_result",
          "data": {
            "text/plain": [
              "0"
            ]
          },
          "metadata": {},
          "execution_count": 185
        }
      ]
    },
    {
      "cell_type": "code",
      "source": [
        "budget.index(200)\n",
        "# when did you make 200 at the 1st time?"
      ],
      "metadata": {
        "colab": {
          "base_uri": "https://localhost:8080/"
        },
        "id": "v3BoZ9J3IF3J",
        "outputId": "7a063e51-91fb-450b-f373-991f62b0de23"
      },
      "execution_count": 188,
      "outputs": [
        {
          "output_type": "execute_result",
          "data": {
            "text/plain": [
              "1"
            ]
          },
          "metadata": {},
          "execution_count": 188
        }
      ]
    },
    {
      "cell_type": "code",
      "source": [
        "#pop: remove and returns the last element of a list\n",
        "name=[\"venu\", \"gopal\", \"Satish\", \"Krishna\", \"xtra\"]"
      ],
      "metadata": {
        "id": "CIfprD5gISgd"
      },
      "execution_count": 194,
      "outputs": []
    },
    {
      "cell_type": "code",
      "source": [
        "drop=name.pop()\n",
        "drop"
      ],
      "metadata": {
        "colab": {
          "base_uri": "https://localhost:8080/",
          "height": 35
        },
        "id": "qN1-BWnMIy-o",
        "outputId": "aca3cb6a-e463-4e37-97bd-d119af8fb1fa"
      },
      "execution_count": 195,
      "outputs": [
        {
          "output_type": "execute_result",
          "data": {
            "text/plain": [
              "'xtra'"
            ],
            "application/vnd.google.colaboratory.intrinsic+json": {
              "type": "string"
            }
          },
          "metadata": {},
          "execution_count": 195
        }
      ]
    },
    {
      "cell_type": "code",
      "source": [
        "#remove: removes the given object from our list\n",
        "\n",
        "name"
      ],
      "metadata": {
        "colab": {
          "base_uri": "https://localhost:8080/"
        },
        "id": "OAsNjF7iJDGB",
        "outputId": "88b1fe1f-1d34-482f-e331-2bc4ec02e9db"
      },
      "execution_count": 196,
      "outputs": [
        {
          "output_type": "execute_result",
          "data": {
            "text/plain": [
              "['venu', 'gopal', 'Satish', 'Krishna']"
            ]
          },
          "metadata": {},
          "execution_count": 196
        }
      ]
    },
    {
      "cell_type": "code",
      "source": [
        "name.remove(\"gopal\")\n",
        "name"
      ],
      "metadata": {
        "colab": {
          "base_uri": "https://localhost:8080/"
        },
        "id": "yiXSzAjTJKq4",
        "outputId": "169388f8-55b1-4002-936b-63a2b2caf836"
      },
      "execution_count": 197,
      "outputs": [
        {
          "output_type": "execute_result",
          "data": {
            "text/plain": [
              "['venu', 'Satish', 'Krishna']"
            ]
          },
          "metadata": {},
          "execution_count": 197
        }
      ]
    },
    {
      "cell_type": "code",
      "source": [
        "#sort: it sorts our list\n",
        "budget"
      ],
      "metadata": {
        "colab": {
          "base_uri": "https://localhost:8080/"
        },
        "id": "iCqgTF0LJRpm",
        "outputId": "bdce23f1-a855-4134-d91b-44dffc76b28c"
      },
      "execution_count": 198,
      "outputs": [
        {
          "output_type": "execute_result",
          "data": {
            "text/plain": [
              "[100, 200, 300, 100]"
            ]
          },
          "metadata": {},
          "execution_count": 198
        }
      ]
    },
    {
      "cell_type": "code",
      "source": [
        "budget.sort()\n",
        "budget"
      ],
      "metadata": {
        "colab": {
          "base_uri": "https://localhost:8080/"
        },
        "id": "HnzsT9hhJcVe",
        "outputId": "50219598-1f42-4d04-ec2c-c05bceb9c89a"
      },
      "execution_count": 200,
      "outputs": [
        {
          "output_type": "execute_result",
          "data": {
            "text/plain": [
              "[100, 100, 200, 300]"
            ]
          },
          "metadata": {},
          "execution_count": 200
        }
      ]
    },
    {
      "cell_type": "code",
      "source": [
        "#insert: helps to add an element at a given index.\n",
        "name"
      ],
      "metadata": {
        "colab": {
          "base_uri": "https://localhost:8080/"
        },
        "id": "17OiWUdUJh6t",
        "outputId": "3a3bb931-c9cb-4e3c-9e1f-1835e410cc54"
      },
      "execution_count": 201,
      "outputs": [
        {
          "output_type": "execute_result",
          "data": {
            "text/plain": [
              "['venu', 'Satish', 'Krishna']"
            ]
          },
          "metadata": {},
          "execution_count": 201
        }
      ]
    },
    {
      "cell_type": "code",
      "source": [
        "name.insert(1, \"Gopal\")\n",
        "name"
      ],
      "metadata": {
        "colab": {
          "base_uri": "https://localhost:8080/"
        },
        "id": "c1u8Hq7aJn0k",
        "outputId": "2511fa07-f60d-4675-d4d9-285a0de4063a"
      },
      "execution_count": 203,
      "outputs": [
        {
          "output_type": "execute_result",
          "data": {
            "text/plain": [
              "['venu', 'Gopal', 'Gopal', 'Satish', 'Krishna']"
            ]
          },
          "metadata": {},
          "execution_count": 203
        }
      ]
    },
    {
      "cell_type": "markdown",
      "source": [
        "**Append vs Extend in Lists**  \n",
        "append will add as a set at the last.  \n",
        "extend will iterate and add at the last as an individual element."
      ],
      "metadata": {
        "id": "027NuvYVJ9vY"
      }
    },
    {
      "cell_type": "code",
      "source": [
        "l=[1, 2, 3, 4, 5]\n",
        "l.append(\"venu\")\n",
        "l"
      ],
      "metadata": {
        "colab": {
          "base_uri": "https://localhost:8080/"
        },
        "id": "k26bcFKIKIly",
        "outputId": "d70fbf95-b9dc-431c-d66f-dfc379750d62"
      },
      "execution_count": 206,
      "outputs": [
        {
          "output_type": "execute_result",
          "data": {
            "text/plain": [
              "[1, 2, 3, 4, 5, 'venu']"
            ]
          },
          "metadata": {},
          "execution_count": 206
        }
      ]
    },
    {
      "cell_type": "code",
      "source": [
        "l1=[6, 7,8]\n",
        "l.append(l1)\n",
        "l"
      ],
      "metadata": {
        "colab": {
          "base_uri": "https://localhost:8080/"
        },
        "id": "mrpGGL1dKWCD",
        "outputId": "1d053299-5829-4b40-934c-68774a37b7d2"
      },
      "execution_count": 208,
      "outputs": [
        {
          "output_type": "execute_result",
          "data": {
            "text/plain": [
              "[1, 2, 3, 4, 5, 'venu', [6, 7, 8]]"
            ]
          },
          "metadata": {},
          "execution_count": 208
        }
      ]
    },
    {
      "cell_type": "code",
      "source": [
        "l.extend(l1)\n",
        "l"
      ],
      "metadata": {
        "colab": {
          "base_uri": "https://localhost:8080/"
        },
        "id": "Zv1ajeYSKsSO",
        "outputId": "37d02d36-1034-4a59-f9bc-be624b47f6db"
      },
      "execution_count": 209,
      "outputs": [
        {
          "output_type": "execute_result",
          "data": {
            "text/plain": [
              "[1, 2, 3, 4, 5, 'venu', [6, 7, 8], 6, 7, 8]"
            ]
          },
          "metadata": {},
          "execution_count": 209
        }
      ]
    },
    {
      "cell_type": "code",
      "source": [
        "l=[1,2,3,4,5]\n",
        "l1=[6,7,8]\n",
        "l.extend(l1)\n",
        "l"
      ],
      "metadata": {
        "colab": {
          "base_uri": "https://localhost:8080/"
        },
        "id": "kQvesN37K9g8",
        "outputId": "7f12b17e-e9f5-4820-ede3-3a94a847633f"
      },
      "execution_count": 210,
      "outputs": [
        {
          "output_type": "execute_result",
          "data": {
            "text/plain": [
              "[1, 2, 3, 4, 5, 6, 7, 8]"
            ]
          },
          "metadata": {},
          "execution_count": 210
        }
      ]
    },
    {
      "cell_type": "markdown",
      "source": [
        "**Hetrogenous List**  \n",
        "its a list of different data types."
      ],
      "metadata": {
        "id": "li43uVBtLqv6"
      }
    },
    {
      "cell_type": "code",
      "source": [
        "l=[2,10, \"venu\", 1.5, True, False]\n",
        "type(l)"
      ],
      "metadata": {
        "colab": {
          "base_uri": "https://localhost:8080/"
        },
        "id": "tLZorsLnL1Yk",
        "outputId": "1f65fea3-f33a-446f-8057-3fedbb82e3d8"
      },
      "execution_count": 211,
      "outputs": [
        {
          "output_type": "execute_result",
          "data": {
            "text/plain": [
              "list"
            ]
          },
          "metadata": {},
          "execution_count": 211
        }
      ]
    },
    {
      "cell_type": "code",
      "source": [
        "type(l[2])"
      ],
      "metadata": {
        "colab": {
          "base_uri": "https://localhost:8080/"
        },
        "id": "4Po_xr7FMCET",
        "outputId": "3c2426fd-f285-4c93-a076-010979f0084a"
      },
      "execution_count": 213,
      "outputs": [
        {
          "output_type": "execute_result",
          "data": {
            "text/plain": [
              "str"
            ]
          },
          "metadata": {},
          "execution_count": 213
        }
      ]
    },
    {
      "cell_type": "code",
      "source": [
        "#2D list\n",
        "l1=[1,2,3]\n",
        "l2=[4,5,6]\n",
        "l3=[7,8,9]\n",
        "l=[l1,l2,l3]\n",
        "l"
      ],
      "metadata": {
        "colab": {
          "base_uri": "https://localhost:8080/"
        },
        "id": "QeC2E2MHMeUn",
        "outputId": "767ac130-ac98-42dc-abe9-ff578ef32758"
      },
      "execution_count": 217,
      "outputs": [
        {
          "output_type": "execute_result",
          "data": {
            "text/plain": [
              "[[1, 2, 3], [4, 5, 6], [7, 8, 9]]"
            ]
          },
          "metadata": {},
          "execution_count": 217
        }
      ]
    },
    {
      "cell_type": "code",
      "source": [
        "l[0]"
      ],
      "metadata": {
        "colab": {
          "base_uri": "https://localhost:8080/"
        },
        "id": "iRtIucnyM4kN",
        "outputId": "bbe18029-d91a-4ab2-ebe1-382983be5b0f"
      },
      "execution_count": 218,
      "outputs": [
        {
          "output_type": "execute_result",
          "data": {
            "text/plain": [
              "[1, 2, 3]"
            ]
          },
          "metadata": {},
          "execution_count": 218
        }
      ]
    },
    {
      "cell_type": "code",
      "source": [
        "l[2]"
      ],
      "metadata": {
        "colab": {
          "base_uri": "https://localhost:8080/"
        },
        "id": "NvyrSq2nM6rr",
        "outputId": "64cb5197-f337-4303-85dd-035001effd0a"
      },
      "execution_count": 219,
      "outputs": [
        {
          "output_type": "execute_result",
          "data": {
            "text/plain": [
              "[7, 8, 9]"
            ]
          },
          "metadata": {},
          "execution_count": 219
        }
      ]
    },
    {
      "cell_type": "code",
      "source": [
        "l[0][2]"
      ],
      "metadata": {
        "colab": {
          "base_uri": "https://localhost:8080/"
        },
        "id": "rg8eZPYKNaF7",
        "outputId": "976225f0-dc57-418c-efaf-5a9526fa8af2"
      },
      "execution_count": 220,
      "outputs": [
        {
          "output_type": "execute_result",
          "data": {
            "text/plain": [
              "3"
            ]
          },
          "metadata": {},
          "execution_count": 220
        }
      ]
    },
    {
      "cell_type": "code",
      "source": [
        "l[2][1]"
      ],
      "metadata": {
        "colab": {
          "base_uri": "https://localhost:8080/"
        },
        "id": "qrHVW6TYNdPG",
        "outputId": "92efbbf4-4bee-4238-9c26-ae67f515f90b"
      },
      "execution_count": 221,
      "outputs": [
        {
          "output_type": "execute_result",
          "data": {
            "text/plain": [
              "8"
            ]
          },
          "metadata": {},
          "execution_count": 221
        }
      ]
    },
    {
      "cell_type": "code",
      "source": [
        "#if you want to get the value of 5 then\n",
        "l[1][1]"
      ],
      "metadata": {
        "colab": {
          "base_uri": "https://localhost:8080/"
        },
        "id": "vjh3yIilNoRh",
        "outputId": "65166896-df2f-4773-b2cf-fd4dcf0f2eec"
      },
      "execution_count": 222,
      "outputs": [
        {
          "output_type": "execute_result",
          "data": {
            "text/plain": [
              "5"
            ]
          },
          "metadata": {},
          "execution_count": 222
        }
      ]
    },
    {
      "cell_type": "code",
      "source": [
        "#iteration on 2d list\n",
        "l"
      ],
      "metadata": {
        "colab": {
          "base_uri": "https://localhost:8080/"
        },
        "id": "y0t8EboUOBta",
        "outputId": "b4b8bcaf-8404-40fc-a18b-5a8a1d6ce0e4"
      },
      "execution_count": 223,
      "outputs": [
        {
          "output_type": "execute_result",
          "data": {
            "text/plain": [
              "[[1, 2, 3], [4, 5, 6], [7, 8, 9]]"
            ]
          },
          "metadata": {},
          "execution_count": 223
        }
      ]
    },
    {
      "cell_type": "code",
      "source": [
        "for i in l:\n",
        "  print(i)"
      ],
      "metadata": {
        "colab": {
          "base_uri": "https://localhost:8080/"
        },
        "id": "wZXt5sn9OImv",
        "outputId": "c8248c5e-7bab-4b25-c2da-14263a822d01"
      },
      "execution_count": 224,
      "outputs": [
        {
          "output_type": "stream",
          "name": "stdout",
          "text": [
            "[1, 2, 3]\n",
            "[4, 5, 6]\n",
            "[7, 8, 9]\n"
          ]
        }
      ]
    },
    {
      "cell_type": "code",
      "source": [
        "for i in l:\n",
        "  for j in i:\n",
        "    print(j, end=\" \")"
      ],
      "metadata": {
        "colab": {
          "base_uri": "https://localhost:8080/"
        },
        "id": "wps34GffOUYu",
        "outputId": "0ff472f2-e7fc-4e7e-c35c-e1b7810aed2b"
      },
      "execution_count": 226,
      "outputs": [
        {
          "output_type": "stream",
          "name": "stdout",
          "text": [
            "1 2 3 4 5 6 7 8 9 "
          ]
        }
      ]
    },
    {
      "cell_type": "markdown",
      "source": [
        "**List Comprehension**"
      ],
      "metadata": {
        "id": "oZ7E5hSzO9dU"
      }
    },
    {
      "cell_type": "code",
      "source": [
        "for i in range(10):\n",
        "  print(i)"
      ],
      "metadata": {
        "colab": {
          "base_uri": "https://localhost:8080/"
        },
        "id": "64UWP4udOwg-",
        "outputId": "7c3783b2-bf06-4e61-f0bc-92e0857d0338"
      },
      "execution_count": 227,
      "outputs": [
        {
          "output_type": "stream",
          "name": "stdout",
          "text": [
            "0\n",
            "1\n",
            "2\n",
            "3\n",
            "4\n",
            "5\n",
            "6\n",
            "7\n",
            "8\n",
            "9\n"
          ]
        }
      ]
    },
    {
      "cell_type": "code",
      "source": [
        "l=[]\n",
        "for i in range(10):\n",
        "  l.append(i)\n",
        "print(l)"
      ],
      "metadata": {
        "colab": {
          "base_uri": "https://localhost:8080/"
        },
        "id": "pUe_FC5-O7Lt",
        "outputId": "f9177198-37bd-43d4-8203-db0b9be92ae6"
      },
      "execution_count": 229,
      "outputs": [
        {
          "output_type": "stream",
          "name": "stdout",
          "text": [
            "[0, 1, 2, 3, 4, 5, 6, 7, 8, 9]\n"
          ]
        }
      ]
    },
    {
      "cell_type": "code",
      "source": [
        "#list comprehension\n",
        "l=[i for i in range(20)]\n",
        "l"
      ],
      "metadata": {
        "colab": {
          "base_uri": "https://localhost:8080/"
        },
        "id": "392NfD7APfgy",
        "outputId": "8fb2db50-3e64-485d-bbae-f3a2bd1447b6"
      },
      "execution_count": 230,
      "outputs": [
        {
          "output_type": "execute_result",
          "data": {
            "text/plain": [
              "[0, 1, 2, 3, 4, 5, 6, 7, 8, 9, 10, 11, 12, 13, 14, 15, 16, 17, 18, 19]"
            ]
          },
          "metadata": {},
          "execution_count": 230
        }
      ]
    },
    {
      "cell_type": "code",
      "source": [
        "l=[(i**2)for i in range(10)]\n",
        "l"
      ],
      "metadata": {
        "colab": {
          "base_uri": "https://localhost:8080/"
        },
        "id": "jUjiF2RcPtEr",
        "outputId": "d5ce4adb-697a-4404-fcfb-319010db4943"
      },
      "execution_count": 231,
      "outputs": [
        {
          "output_type": "execute_result",
          "data": {
            "text/plain": [
              "[0, 1, 4, 9, 16, 25, 36, 49, 64, 81]"
            ]
          },
          "metadata": {},
          "execution_count": 231
        }
      ]
    },
    {
      "cell_type": "code",
      "source": [
        "#Challenge: give a list of population sensun done byb GOI. you need to find the total population. Each element in the list represents total members in a family,\n",
        "\n",
        "l=[4,6,5,8,9,3,2,4,5,4,3,2,3,4]\n",
        "#access all the elements of the list and then sum them up.\n",
        "population=0\n",
        "for i in l:\n",
        "  population+=i\n",
        "print(population)"
      ],
      "metadata": {
        "colab": {
          "base_uri": "https://localhost:8080/"
        },
        "id": "VyhQzLrxQOTb",
        "outputId": "a994c46b-96a3-4027-c887-773eef394faf"
      },
      "execution_count": 235,
      "outputs": [
        {
          "output_type": "stream",
          "name": "stdout",
          "text": [
            "62\n"
          ]
        }
      ]
    },
    {
      "cell_type": "markdown",
      "source": [
        "**(Tuples)**  -- are used for the frozen data., throughout the its life cycle you wont change the data  \n",
        "Like list tuples are also ordered collection of data  \n",
        "unchangeable  \n",
        "iterable  \n",
        "can be hetrogeneous\n",
        "\n",
        "\n",
        "In simple we only cant change the value, apart from that it acts like a list."
      ],
      "metadata": {
        "id": "AfSUmxcmRe0N"
      }
    },
    {
      "cell_type": "code",
      "source": [
        "#you can create the empty tuples\n",
        "t=()\n",
        "type (t)"
      ],
      "metadata": {
        "colab": {
          "base_uri": "https://localhost:8080/"
        },
        "id": "po5Zs3BIQ6KM",
        "outputId": "6f57833d-cb77-4916-cbfb-3e6ba00dd8ad"
      },
      "execution_count": 236,
      "outputs": [
        {
          "output_type": "execute_result",
          "data": {
            "text/plain": [
              "tuple"
            ]
          },
          "metadata": {},
          "execution_count": 236
        }
      ]
    },
    {
      "cell_type": "code",
      "source": [
        "t1=tuple()\n",
        "type (t1)"
      ],
      "metadata": {
        "colab": {
          "base_uri": "https://localhost:8080/"
        },
        "id": "_CLk6PtSUAAQ",
        "outputId": "94469a39-e61a-435f-dd9e-2de0fcf62fe6"
      },
      "execution_count": 237,
      "outputs": [
        {
          "output_type": "execute_result",
          "data": {
            "text/plain": [
              "tuple"
            ]
          },
          "metadata": {},
          "execution_count": 237
        }
      ]
    },
    {
      "cell_type": "code",
      "source": [
        "print(t, t1)"
      ],
      "metadata": {
        "colab": {
          "base_uri": "https://localhost:8080/"
        },
        "id": "_nts0bV2UGsx",
        "outputId": "31a9b389-71fc-4f8a-b8d3-b0cf915f8309"
      },
      "execution_count": 238,
      "outputs": [
        {
          "output_type": "stream",
          "name": "stdout",
          "text": [
            "() ()\n"
          ]
        }
      ]
    },
    {
      "cell_type": "code",
      "source": [
        "#non empty tuples, here in this example it considered as a integer not a tuple.\n",
        "t3=(2)\n",
        "type(t3)"
      ],
      "metadata": {
        "colab": {
          "base_uri": "https://localhost:8080/"
        },
        "id": "sFJF5SZWULKn",
        "outputId": "d944b3c0-95c0-4a28-f515-d61d9f16c181"
      },
      "execution_count": 239,
      "outputs": [
        {
          "output_type": "execute_result",
          "data": {
            "text/plain": [
              "int"
            ]
          },
          "metadata": {},
          "execution_count": 239
        }
      ]
    },
    {
      "cell_type": "code",
      "source": [
        "#use the (,) after 2 then the system will get to know its a tuple not an integer.\n",
        "t3=(2, )\n",
        "type(t3)"
      ],
      "metadata": {
        "colab": {
          "base_uri": "https://localhost:8080/"
        },
        "id": "PgIDNypbUr6R",
        "outputId": "b4c08d6b-cbdf-44ce-ca60-4a928d20347d"
      },
      "execution_count": 240,
      "outputs": [
        {
          "output_type": "execute_result",
          "data": {
            "text/plain": [
              "tuple"
            ]
          },
          "metadata": {},
          "execution_count": 240
        }
      ]
    },
    {
      "cell_type": "code",
      "source": [
        "t4= tuple(\"venu\")\n",
        "type(t4)"
      ],
      "metadata": {
        "colab": {
          "base_uri": "https://localhost:8080/"
        },
        "id": "u_0PSYeTU78_",
        "outputId": "21c6d54e-8776-4c8e-ffcc-0efe6feb6655"
      },
      "execution_count": 244,
      "outputs": [
        {
          "output_type": "execute_result",
          "data": {
            "text/plain": [
              "tuple"
            ]
          },
          "metadata": {},
          "execution_count": 244
        }
      ]
    },
    {
      "cell_type": "code",
      "source": [
        "t4"
      ],
      "metadata": {
        "colab": {
          "base_uri": "https://localhost:8080/"
        },
        "id": "8STeR01CVQD_",
        "outputId": "f6cea713-ee30-407d-d540-9ec3891747d5"
      },
      "execution_count": 245,
      "outputs": [
        {
          "output_type": "execute_result",
          "data": {
            "text/plain": [
              "('v', 'e', 'n', 'u')"
            ]
          },
          "metadata": {},
          "execution_count": 245
        }
      ]
    },
    {
      "cell_type": "code",
      "source": [
        "# Unpacking Tuples\n",
        "a=3\n",
        "b=4\n",
        "c=5\n",
        "d=6\n",
        "print(a, b, c, d)"
      ],
      "metadata": {
        "colab": {
          "base_uri": "https://localhost:8080/"
        },
        "id": "y5jyZ1jsW0Se",
        "outputId": "20b427f7-da78-4315-c742-7ebb0f502e0d"
      },
      "execution_count": 248,
      "outputs": [
        {
          "output_type": "stream",
          "name": "stdout",
          "text": [
            "3 4 5 6\n"
          ]
        }
      ]
    },
    {
      "cell_type": "code",
      "source": [
        "a, b=  7,6\n",
        "print(a,b)"
      ],
      "metadata": {
        "colab": {
          "base_uri": "https://localhost:8080/"
        },
        "id": "9Mde_WxBXA4G",
        "outputId": "de239748-609d-465e-a2e3-ff4e91821ab7"
      },
      "execution_count": 249,
      "outputs": [
        {
          "output_type": "stream",
          "name": "stdout",
          "text": [
            "7 6\n"
          ]
        }
      ]
    },
    {
      "cell_type": "code",
      "source": [
        "t=(1,2,3,4)"
      ],
      "metadata": {
        "id": "ytHKT9eDXFCt"
      },
      "execution_count": 250,
      "outputs": []
    },
    {
      "cell_type": "code",
      "source": [
        "a,b,c,d=t\n",
        "print(a,b,c,d)"
      ],
      "metadata": {
        "colab": {
          "base_uri": "https://localhost:8080/"
        },
        "id": "E1Fx76YvXIqR",
        "outputId": "4438cde2-3abb-4e82-a4a2-94fa715f758f"
      },
      "execution_count": 251,
      "outputs": [
        {
          "output_type": "stream",
          "name": "stdout",
          "text": [
            "1 2 3 4\n"
          ]
        }
      ]
    },
    {
      "cell_type": "code",
      "source": [
        "#tuple Methods\n",
        "#Count\n",
        "t=(1,2,3,4,1,5,1)"
      ],
      "metadata": {
        "id": "xWTY7q1iXiVp"
      },
      "execution_count": 252,
      "outputs": []
    },
    {
      "cell_type": "code",
      "source": [
        "t.count(1)"
      ],
      "metadata": {
        "colab": {
          "base_uri": "https://localhost:8080/"
        },
        "id": "wda84H_cXvHG",
        "outputId": "7fe2e366-324c-4289-89f3-a209a96a9d94"
      },
      "execution_count": 253,
      "outputs": [
        {
          "output_type": "execute_result",
          "data": {
            "text/plain": [
              "3"
            ]
          },
          "metadata": {},
          "execution_count": 253
        }
      ]
    },
    {
      "cell_type": "code",
      "source": [
        "t.index(1)"
      ],
      "metadata": {
        "colab": {
          "base_uri": "https://localhost:8080/"
        },
        "id": "yRXGR2IaXyzV",
        "outputId": "cac98dee-879a-451c-add4-32ef7fd2549a"
      },
      "execution_count": 254,
      "outputs": [
        {
          "output_type": "execute_result",
          "data": {
            "text/plain": [
              "0"
            ]
          },
          "metadata": {},
          "execution_count": 254
        }
      ]
    },
    {
      "cell_type": "code",
      "source": [
        "t.index(4)"
      ],
      "metadata": {
        "colab": {
          "base_uri": "https://localhost:8080/"
        },
        "id": "E64PvXT-X2fJ",
        "outputId": "a7dde816-4305-468e-940d-2bfb0ccf1773"
      },
      "execution_count": 256,
      "outputs": [
        {
          "output_type": "execute_result",
          "data": {
            "text/plain": [
              "3"
            ]
          },
          "metadata": {},
          "execution_count": 256
        }
      ]
    },
    {
      "cell_type": "code",
      "source": [
        "#Iterations\n",
        "len(t)"
      ],
      "metadata": {
        "colab": {
          "base_uri": "https://localhost:8080/"
        },
        "id": "-j5lmNI0YJDt",
        "outputId": "750454f6-ca13-494b-f36d-aaf5e5ee5cd4"
      },
      "execution_count": 257,
      "outputs": [
        {
          "output_type": "execute_result",
          "data": {
            "text/plain": [
              "7"
            ]
          },
          "metadata": {},
          "execution_count": 257
        }
      ]
    },
    {
      "cell_type": "code",
      "source": [
        "for i in t:\n",
        "  print(i, end=\" \")"
      ],
      "metadata": {
        "colab": {
          "base_uri": "https://localhost:8080/"
        },
        "id": "CUVeQ9yEYRnK",
        "outputId": "6200809e-47ba-42f5-94e7-5f40b260ed09"
      },
      "execution_count": 259,
      "outputs": [
        {
          "output_type": "stream",
          "name": "stdout",
          "text": [
            "1 2 3 4 1 5 1 "
          ]
        }
      ]
    },
    {
      "cell_type": "code",
      "source": [
        "#concatination\n",
        "t"
      ],
      "metadata": {
        "colab": {
          "base_uri": "https://localhost:8080/"
        },
        "id": "jxhNh_68YZa5",
        "outputId": "73c11f79-c093-42da-fa53-bc861f4231ba"
      },
      "execution_count": 260,
      "outputs": [
        {
          "output_type": "execute_result",
          "data": {
            "text/plain": [
              "(1, 2, 3, 4, 1, 5, 1)"
            ]
          },
          "metadata": {},
          "execution_count": 260
        }
      ]
    },
    {
      "cell_type": "code",
      "source": [
        "t1=(5,6)"
      ],
      "metadata": {
        "id": "BGDrz8fhYg1e"
      },
      "execution_count": 264,
      "outputs": []
    },
    {
      "cell_type": "code",
      "source": [
        "t2=t+t1"
      ],
      "metadata": {
        "id": "25miFcbLYjxH"
      },
      "execution_count": 266,
      "outputs": []
    },
    {
      "cell_type": "code",
      "source": [
        "t2"
      ],
      "metadata": {
        "colab": {
          "base_uri": "https://localhost:8080/"
        },
        "id": "sLpVWhT1YpkH",
        "outputId": "f046a5bd-8a8f-4623-fc25-aaf233998a9b"
      },
      "execution_count": 267,
      "outputs": [
        {
          "output_type": "execute_result",
          "data": {
            "text/plain": [
              "(1, 2, 3, 4, 1, 5, 1, 5, 6)"
            ]
          },
          "metadata": {},
          "execution_count": 267
        }
      ]
    },
    {
      "cell_type": "code",
      "source": [
        "#tuples to list and a list to tuple\n",
        "\n",
        "lst=list(t2)\n",
        "type(lst)"
      ],
      "metadata": {
        "colab": {
          "base_uri": "https://localhost:8080/"
        },
        "id": "dfCmCcL6Y06z",
        "outputId": "53dedae1-9bb9-4a64-9839-5bca67be0500"
      },
      "execution_count": 268,
      "outputs": [
        {
          "output_type": "execute_result",
          "data": {
            "text/plain": [
              "list"
            ]
          },
          "metadata": {},
          "execution_count": 268
        }
      ]
    },
    {
      "cell_type": "code",
      "source": [
        "lst1=tuple(lst)\n",
        "type(lst1)"
      ],
      "metadata": {
        "colab": {
          "base_uri": "https://localhost:8080/"
        },
        "id": "UClGMIb6ZHV1",
        "outputId": "ddcb8038-c906-48dd-af9a-165887589194"
      },
      "execution_count": 269,
      "outputs": [
        {
          "output_type": "execute_result",
          "data": {
            "text/plain": [
              "tuple"
            ]
          },
          "metadata": {},
          "execution_count": 269
        }
      ]
    }
  ],
  "metadata": {
    "colab": {
      "provenance": [],
      "collapsed_sections": [
        "8amTzFbgQ9_t",
        "lEZVixPuQ9B1",
        "gFPer47FT-pl",
        "HMAJVQT5ZAmL",
        "4AWpei3VZkLq",
        "NCisEfQjc-BX",
        "Xa1qzvfmoeTq",
        "MUyg_7IQvBHp",
        "ornAzmVzjwjq",
        "FcFTr_R1vQTR",
        "cSrqIs0Bl0Pn"
      ]
    },
    "kernelspec": {
      "display_name": "Python 3",
      "name": "python3"
    },
    "language_info": {
      "name": "python"
    }
  },
  "nbformat": 4,
  "nbformat_minor": 0
}